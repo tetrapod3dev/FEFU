{
 "cells": [
  {
   "cell_type": "code",
   "execution_count": 1,
   "metadata": {},
   "outputs": [],
   "source": [
    "import pandas as pd\n",
    "import numpy as np\n",
    "\n",
    "dataframes = pd.read_pickle('data/review.pkl')\n",
    "\n",
    "category_score = pd.merge(\n",
    "    dataframes[\"stores\"], dataframes[\"reviews\"], left_on=\"id\", right_on=\"store\"\n",
    ")[[\"category\", \"user\", \"score\"]]\n",
    "\n",
    "category_score[\"category\"] = category_score[\"category\"].apply(lambda c: c.split(\"|\"))\n",
    "\n",
    "category_explode = category_score.explode(\"category\")"
   ]
  },
  {
   "cell_type": "code",
   "execution_count": 2,
   "metadata": {
    "scrolled": true
   },
   "outputs": [],
   "source": [
    "category_scores = category_explode.groupby(['category', 'user'])['score'].mean().reset_index()\n",
    "\n",
    "# 각 유저의 카테고리별 평균 평점입니다.\n",
    "# category_scores = category_scores[category_scores['category'] != '']"
   ]
  },
  {
   "cell_type": "code",
   "execution_count": 12,
   "metadata": {},
   "outputs": [
    {
     "name": "stdout",
     "output_type": "stream",
     "text": [
      "user    7       15      23      62      64      74      105     137     \\\n",
      "user                                                                     \n",
      "7          1.0     0.0     0.0     0.0     0.0     0.0     0.0     0.0   \n",
      "15         0.0     1.0     0.0     0.0     0.0     0.0     0.0     0.0   \n",
      "23         0.0     0.0     1.0     0.0     0.0     0.0     0.0     0.0   \n",
      "62         0.0     0.0     0.0     1.0     0.0     0.0     0.0     0.0   \n",
      "64         0.0     0.0     0.0     0.0     1.0     0.0     0.0     0.0   \n",
      "...        ...     ...     ...     ...     ...     ...     ...     ...   \n",
      "949946     0.0     0.0     0.0     0.0     0.0     0.0     0.0     0.0   \n",
      "949951     0.0     0.0     0.0     0.0     0.0     0.0     0.0     0.0   \n",
      "950224     0.0     0.0     0.0     0.0     0.0     0.0     0.0     0.0   \n",
      "950225     0.0     0.0     0.0     1.0     0.0     0.0     0.0     0.0   \n",
      "950331     0.0     0.0     0.0     0.0     0.0     0.0     0.0     0.0   \n",
      "\n",
      "user      147     156     ...  949436  949554  949596    949670  949944  \\\n",
      "user                      ...                                             \n",
      "7       0.054945     0.0  ...     0.0     0.0     0.0  0.000000     0.0   \n",
      "15      0.000000     0.0  ...     0.0     0.0     0.0  0.000000     0.0   \n",
      "23      0.006929     0.0  ...     0.0     0.0     0.0  0.000000     0.0   \n",
      "62      0.130366     0.0  ...     0.0     0.0     0.0  0.000000     0.0   \n",
      "64      0.000000     0.0  ...     0.0     0.0     0.0  0.000000     0.0   \n",
      "...          ...     ...  ...     ...     ...     ...       ...     ...   \n",
      "949946  0.000000     0.0  ...     0.0     0.0     0.0  0.000000     0.0   \n",
      "949951  0.000000     0.0  ...     0.0     0.0     0.0  0.316228     0.0   \n",
      "950224  0.020846     0.0  ...     0.0     0.0     0.0  0.000000     0.0   \n",
      "950225  0.130366     0.0  ...     0.0     0.0     0.0  0.000000     0.0   \n",
      "950331  0.000000     0.0  ...     0.0     0.0     0.0  0.000000     0.0   \n",
      "\n",
      "user    949946  949951  950224  950225  950331  \n",
      "user                                            \n",
      "7          0.0     0.0     0.0     0.0     0.0  \n",
      "15         0.0     0.0     0.0     0.0     0.0  \n",
      "23         0.0     0.0     0.0     0.0     0.0  \n",
      "62         0.0     0.0     0.0     1.0     0.0  \n",
      "64         0.0     0.0     0.0     0.0     0.0  \n",
      "...        ...     ...     ...     ...     ...  \n",
      "949946     1.0     0.0     0.0     0.0     0.0  \n",
      "949951     0.0     1.0     0.0     0.0     0.0  \n",
      "950224     0.0     0.0     1.0     0.0     0.0  \n",
      "950225     0.0     0.0     0.0     1.0     0.0  \n",
      "950331     0.0     0.0     0.0     0.0     1.0  \n",
      "\n",
      "[18992 rows x 18992 columns]\n"
     ]
    }
   ],
   "source": [
    "# user와 category를 index / column로 갖고, 평균 점수인 score를 value로 갖는 full matrix입니다\n",
    "score_matrix = category_scores.pivot(index='user', columns='category', values='score')\n",
    "\n",
    "from sklearn.metrics.pairwise import cosine_similarity\n",
    "\n",
    "# sklearn 라이브러리를 활용하여 각각의 유저에 대한 코사인 유사도를 계산합니다.\n",
    "matrix_dummy = score_matrix.copy().fillna(0)\n",
    "user_similarity = cosine_similarity(matrix_dummy, matrix_dummy)\n",
    "user_similarity = pd.DataFrame(user_similarity, index=score_matrix.index,\n",
    "                               columns=score_matrix.index)\n",
    "print(user_similarity)"
   ]
  },
  {
   "cell_type": "code",
   "execution_count": 4,
   "metadata": {},
   "outputs": [],
   "source": [
    "def CF_simple(user, category):\n",
    "    \"\"\"\n",
    "        가장 간단하게 작성한 협업 필터링 코드입니다.\n",
    "    \"\"\"\n",
    "    if category in score_matrix:\n",
    "        # 점수가 한번이라도 매겨진 category일 경우 입니다.\n",
    "        \n",
    "        # 특정 유저의 다른 유저들에 대한 코사인 유사도입니다.\n",
    "        sim_scores = user_similarity[user].copy()\n",
    "        \n",
    "        # 모든 유저의 특정 카테고리에 대한 평균 평점들입니다.\n",
    "        category_score = score_matrix[category].copy()\n",
    "        \n",
    "        # 평점을 입력하지 않은 유저를 제외시켜줍니다.\n",
    "        none_rating_idx = category_score[category_score.isnull()].index\n",
    "        sim_scores = sim_scores.drop(none_rating_idx)\n",
    "        \n",
    "        # 평점이 입력되지 않은 카테고리들도 제거해줍니다.\n",
    "        category_score = category_score.dropna()\n",
    "        if sim_scores.sum() > 1:\n",
    "            # 평균값은 유저의 코사인 유사도와 카테고리별 평점의 내적으로 계산했습니다.\n",
    "            mean_rating = np.dot(sim_scores, category_score) / sim_scores.sum()\n",
    "        else:\n",
    "            mean_rating = 3.0\n",
    "    else:\n",
    "        # 점수가 매겨진적 없는 카테고리라면 3.0을 넣어줍니다.\n",
    "        mean_rating = 3.0\n",
    "    return mean_rating\n",
    "\n",
    "def recommend_simple(user, n_items):\n",
    "    # 특정 유저의 카테고리별 평점 정보입니다.\n",
    "    user_category = score_matrix.loc[user].copy()\n",
    "    for category in score_matrix:\n",
    "        if pd.notnull(user_category.loc[category]):\n",
    "            # 만약 카테고리의 평점 정보가 null이 아니라면, 이미 평가한 항목입니다.\n",
    "            # 추천에서 제외하기 위해 0을 넣어줍니다.\n",
    "            user_category.loc[category] = 0\n",
    "        else:\n",
    "            user_category.loc[category] = CF_simple(user, category)\n",
    "    category_sort = user_category.sort_values(ascending=False)[:n_items]\n",
    "    return category_sort"
   ]
  },
  {
   "cell_type": "code",
   "execution_count": 5,
   "metadata": {},
   "outputs": [
    {
     "name": "stdout",
     "output_type": "stream",
     "text": [
      "7번 유저 추천\n",
      "category\n",
      "고려음식      4.858061\n",
      "칠면조       4.848691\n",
      "우럭조림      4.668416\n",
      "소고기해장국    4.651163\n",
      "보말칼국수     4.592455\n",
      "Name: 7, dtype: float64\n",
      "15번 유저 추천\n",
      "category\n",
      "중국음식     4.662956\n",
      "프렌치      4.658387\n",
      "초두부      4.635693\n",
      "시오라멘     4.550817\n",
      "사시미정식    4.544322\n",
      "Name: 15, dtype: float64\n"
     ]
    }
   ],
   "source": [
    "print('7번 유저 추천')\n",
    "print(recommend_simple(user=7, n_items=5))\n",
    "\n",
    "print('15번 유저 추천')\n",
    "print(recommend_simple(user=15, n_items=5))"
   ]
  },
  {
   "cell_type": "code",
   "execution_count": 6,
   "metadata": {},
   "outputs": [],
   "source": [
    "from sklearn.model_selection import train_test_split\n",
    "\n",
    "x = category_scores.copy()\n",
    "y = category_scores['user']\n",
    "x_train, x_test, y_train, y_test = train_test_split(x, y, test_size=0.25)"
   ]
  },
  {
   "cell_type": "code",
   "execution_count": 7,
   "metadata": {},
   "outputs": [],
   "source": [
    "# RMSE 계산해주는 함수\n",
    "def RMSE(y_true, y_pred):\n",
    "    return np.sqrt(np.mean((np.array(y_true)- np.array(y_pred)) ** 2))\n",
    "\n",
    "# 모델별 RMSE 계산\n",
    "def score(model):\n",
    "    id_pairs = zip(x_test['user'], x_test['category'])\n",
    "    y_pred = np.array([model(user, category) for (user, category) in id_pairs])\n",
    "    y_true = np.array(x_test['score'])\n",
    "    return RMSE(y_true, y_pred)\n",
    "\n",
    "# train 데이터로 Full Matrix 구하기\n",
    "score_matrix = x_train.pivot(index='user', columns='category', values='score')"
   ]
  },
  {
   "cell_type": "code",
   "execution_count": 8,
   "metadata": {},
   "outputs": [],
   "source": [
    "index = x['user'].unique()\n",
    "columns = x['category'].unique()\n",
    "train_matrix = pd.DataFrame(index=index, columns=columns)\n",
    "train_matrix = train_matrix.fillna(score_matrix)"
   ]
  },
  {
   "cell_type": "code",
   "execution_count": 9,
   "metadata": {},
   "outputs": [],
   "source": [
    "from sklearn.metrics.pairwise import cosine_similarity\n",
    "\n",
    "matrix_dummy = train_matrix.copy().fillna(0)\n",
    "user_similarity = cosine_similarity(matrix_dummy, matrix_dummy)\n",
    "user_similarity = pd.DataFrame(user_similarity, index=train_matrix.index,\n",
    "                               columns=train_matrix.index)"
   ]
  },
  {
   "cell_type": "code",
   "execution_count": 10,
   "metadata": {},
   "outputs": [
    {
     "name": "stdout",
     "output_type": "stream",
     "text": [
      "1.1606569292785525\n"
     ]
    }
   ],
   "source": [
    "import numpy as np\n",
    "def CF_simple(user, category):\n",
    "    if category in train_matrix:\n",
    "        sim_scores = user_similarity[user].copy()\n",
    "        category_score = train_matrix[category].copy()\n",
    "        none_rating_idx = category_score[category_score.isnull()].index\n",
    "        category_score = category_score.dropna()\n",
    "        sim_scores = sim_scores.drop(none_rating_idx)\n",
    "        if sim_scores.sum() > 1:\n",
    "            mean_rating = np.dot(sim_scores, category_score) / sim_scores.sum()\n",
    "        else:\n",
    "            mean_rating = 3.0\n",
    "    else:\n",
    "        mean_rating = 3.0\n",
    "    return mean_rating\n",
    "\n",
    "print(score(CF_simple))"
   ]
  },
  {
   "cell_type": "code",
   "execution_count": 11,
   "metadata": {},
   "outputs": [
    {
     "name": "stdout",
     "output_type": "stream",
     "text": [
      "이웃 크기: 10, RMSE: 1.1890\n",
      "이웃 크기: 20, RMSE: 1.1698\n",
      "이웃 크기: 30, RMSE: 1.1650\n",
      "이웃 크기: 40, RMSE: 1.1632\n"
     ]
    },
    {
     "ename": "KeyboardInterrupt",
     "evalue": "",
     "output_type": "error",
     "traceback": [
      "\u001b[1;31m---------------------------------------------------------------------------\u001b[0m",
      "\u001b[1;31mKeyboardInterrupt\u001b[0m                         Traceback (most recent call last)",
      "\u001b[1;32m<ipython-input-11-0f0b4cc8e5a7>\u001b[0m in \u001b[0;36m<module>\u001b[1;34m\u001b[0m\n\u001b[0;32m     43\u001b[0m \u001b[1;31m# 정확도 계산\u001b[0m\u001b[1;33m\u001b[0m\u001b[1;33m\u001b[0m\u001b[0m\n\u001b[0;32m     44\u001b[0m \u001b[1;32mfor\u001b[0m \u001b[0mneighbor_size\u001b[0m \u001b[1;32min\u001b[0m \u001b[1;33m[\u001b[0m\u001b[1;36m10\u001b[0m\u001b[1;33m,\u001b[0m \u001b[1;36m20\u001b[0m\u001b[1;33m,\u001b[0m \u001b[1;36m30\u001b[0m\u001b[1;33m,\u001b[0m \u001b[1;36m40\u001b[0m\u001b[1;33m,\u001b[0m \u001b[1;36m50\u001b[0m\u001b[1;33m,\u001b[0m \u001b[1;36m60\u001b[0m\u001b[1;33m]\u001b[0m\u001b[1;33m:\u001b[0m\u001b[1;33m\u001b[0m\u001b[0m\n\u001b[1;32m---> 45\u001b[1;33m     \u001b[0mprint\u001b[0m\u001b[1;33m(\u001b[0m\u001b[1;34m\"이웃 크기: {0}, RMSE: {1:.4f}\"\u001b[0m\u001b[1;33m.\u001b[0m\u001b[0mformat\u001b[0m\u001b[1;33m(\u001b[0m\u001b[0mneighbor_size\u001b[0m\u001b[1;33m,\u001b[0m \u001b[0mscore\u001b[0m\u001b[1;33m(\u001b[0m\u001b[0mcf_knn\u001b[0m\u001b[1;33m,\u001b[0m \u001b[0mneighbor_size\u001b[0m\u001b[1;33m)\u001b[0m\u001b[1;33m)\u001b[0m\u001b[1;33m)\u001b[0m\u001b[1;33m\u001b[0m\u001b[0m\n\u001b[0m",
      "\u001b[1;32m<ipython-input-11-0f0b4cc8e5a7>\u001b[0m in \u001b[0;36mscore\u001b[1;34m(model, neighbor_size)\u001b[0m\n\u001b[0;32m      2\u001b[0m \u001b[1;32mdef\u001b[0m \u001b[0mscore\u001b[0m\u001b[1;33m(\u001b[0m\u001b[0mmodel\u001b[0m\u001b[1;33m,\u001b[0m \u001b[0mneighbor_size\u001b[0m\u001b[1;33m)\u001b[0m\u001b[1;33m:\u001b[0m\u001b[1;33m\u001b[0m\u001b[0m\n\u001b[0;32m      3\u001b[0m     \u001b[0mid_pairs\u001b[0m \u001b[1;33m=\u001b[0m \u001b[0mzip\u001b[0m\u001b[1;33m(\u001b[0m\u001b[0mx_test\u001b[0m\u001b[1;33m[\u001b[0m\u001b[1;34m'user'\u001b[0m\u001b[1;33m]\u001b[0m\u001b[1;33m,\u001b[0m \u001b[0mx_test\u001b[0m\u001b[1;33m[\u001b[0m\u001b[1;34m'category'\u001b[0m\u001b[1;33m]\u001b[0m\u001b[1;33m)\u001b[0m\u001b[1;33m\u001b[0m\u001b[0m\n\u001b[1;32m----> 4\u001b[1;33m     \u001b[0my_pred\u001b[0m \u001b[1;33m=\u001b[0m \u001b[0mnp\u001b[0m\u001b[1;33m.\u001b[0m\u001b[0marray\u001b[0m\u001b[1;33m(\u001b[0m\u001b[1;33m[\u001b[0m\u001b[0mmodel\u001b[0m\u001b[1;33m(\u001b[0m\u001b[0muser\u001b[0m\u001b[1;33m,\u001b[0m \u001b[0mcategory\u001b[0m\u001b[1;33m,\u001b[0m \u001b[0mneighbor_size\u001b[0m\u001b[1;33m)\u001b[0m \u001b[1;32mfor\u001b[0m \u001b[1;33m(\u001b[0m\u001b[0muser\u001b[0m\u001b[1;33m,\u001b[0m \u001b[0mcategory\u001b[0m\u001b[1;33m)\u001b[0m \u001b[1;32min\u001b[0m \u001b[0mid_pairs\u001b[0m\u001b[1;33m]\u001b[0m\u001b[1;33m)\u001b[0m\u001b[1;33m\u001b[0m\u001b[0m\n\u001b[0m\u001b[0;32m      5\u001b[0m     \u001b[0my_true\u001b[0m \u001b[1;33m=\u001b[0m \u001b[0mnp\u001b[0m\u001b[1;33m.\u001b[0m\u001b[0marray\u001b[0m\u001b[1;33m(\u001b[0m\u001b[0mx_test\u001b[0m\u001b[1;33m[\u001b[0m\u001b[1;34m'score'\u001b[0m\u001b[1;33m]\u001b[0m\u001b[1;33m)\u001b[0m\u001b[1;33m\u001b[0m\u001b[0m\n\u001b[0;32m      6\u001b[0m     \u001b[1;32mreturn\u001b[0m \u001b[0mRMSE\u001b[0m\u001b[1;33m(\u001b[0m\u001b[0my_true\u001b[0m\u001b[1;33m,\u001b[0m \u001b[0my_pred\u001b[0m\u001b[1;33m)\u001b[0m\u001b[1;33m\u001b[0m\u001b[0m\n",
      "\u001b[1;32m<ipython-input-11-0f0b4cc8e5a7>\u001b[0m in \u001b[0;36m<listcomp>\u001b[1;34m(.0)\u001b[0m\n\u001b[0;32m      2\u001b[0m \u001b[1;32mdef\u001b[0m \u001b[0mscore\u001b[0m\u001b[1;33m(\u001b[0m\u001b[0mmodel\u001b[0m\u001b[1;33m,\u001b[0m \u001b[0mneighbor_size\u001b[0m\u001b[1;33m)\u001b[0m\u001b[1;33m:\u001b[0m\u001b[1;33m\u001b[0m\u001b[0m\n\u001b[0;32m      3\u001b[0m     \u001b[0mid_pairs\u001b[0m \u001b[1;33m=\u001b[0m \u001b[0mzip\u001b[0m\u001b[1;33m(\u001b[0m\u001b[0mx_test\u001b[0m\u001b[1;33m[\u001b[0m\u001b[1;34m'user'\u001b[0m\u001b[1;33m]\u001b[0m\u001b[1;33m,\u001b[0m \u001b[0mx_test\u001b[0m\u001b[1;33m[\u001b[0m\u001b[1;34m'category'\u001b[0m\u001b[1;33m]\u001b[0m\u001b[1;33m)\u001b[0m\u001b[1;33m\u001b[0m\u001b[0m\n\u001b[1;32m----> 4\u001b[1;33m     \u001b[0my_pred\u001b[0m \u001b[1;33m=\u001b[0m \u001b[0mnp\u001b[0m\u001b[1;33m.\u001b[0m\u001b[0marray\u001b[0m\u001b[1;33m(\u001b[0m\u001b[1;33m[\u001b[0m\u001b[0mmodel\u001b[0m\u001b[1;33m(\u001b[0m\u001b[0muser\u001b[0m\u001b[1;33m,\u001b[0m \u001b[0mcategory\u001b[0m\u001b[1;33m,\u001b[0m \u001b[0mneighbor_size\u001b[0m\u001b[1;33m)\u001b[0m \u001b[1;32mfor\u001b[0m \u001b[1;33m(\u001b[0m\u001b[0muser\u001b[0m\u001b[1;33m,\u001b[0m \u001b[0mcategory\u001b[0m\u001b[1;33m)\u001b[0m \u001b[1;32min\u001b[0m \u001b[0mid_pairs\u001b[0m\u001b[1;33m]\u001b[0m\u001b[1;33m)\u001b[0m\u001b[1;33m\u001b[0m\u001b[0m\n\u001b[0m\u001b[0;32m      5\u001b[0m     \u001b[0my_true\u001b[0m \u001b[1;33m=\u001b[0m \u001b[0mnp\u001b[0m\u001b[1;33m.\u001b[0m\u001b[0marray\u001b[0m\u001b[1;33m(\u001b[0m\u001b[0mx_test\u001b[0m\u001b[1;33m[\u001b[0m\u001b[1;34m'score'\u001b[0m\u001b[1;33m]\u001b[0m\u001b[1;33m)\u001b[0m\u001b[1;33m\u001b[0m\u001b[0m\n\u001b[0;32m      6\u001b[0m     \u001b[1;32mreturn\u001b[0m \u001b[0mRMSE\u001b[0m\u001b[1;33m(\u001b[0m\u001b[0my_true\u001b[0m\u001b[1;33m,\u001b[0m \u001b[0my_pred\u001b[0m\u001b[1;33m)\u001b[0m\u001b[1;33m\u001b[0m\u001b[0m\n",
      "\u001b[1;32m<ipython-input-11-0f0b4cc8e5a7>\u001b[0m in \u001b[0;36mcf_knn\u001b[1;34m(user, category, neighbor_size)\u001b[0m\n\u001b[0;32m     13\u001b[0m         \u001b[0mnone_rating_idx\u001b[0m \u001b[1;33m=\u001b[0m \u001b[0mcategory_score\u001b[0m\u001b[1;33m[\u001b[0m\u001b[0mcategory_score\u001b[0m\u001b[1;33m.\u001b[0m\u001b[0misnull\u001b[0m\u001b[1;33m(\u001b[0m\u001b[1;33m)\u001b[0m\u001b[1;33m]\u001b[0m\u001b[1;33m.\u001b[0m\u001b[0mindex\u001b[0m\u001b[1;33m\u001b[0m\u001b[0m\n\u001b[0;32m     14\u001b[0m         \u001b[0mcategory_score\u001b[0m \u001b[1;33m=\u001b[0m \u001b[0mcategory_score\u001b[0m\u001b[1;33m.\u001b[0m\u001b[0mdropna\u001b[0m\u001b[1;33m(\u001b[0m\u001b[1;33m)\u001b[0m\u001b[1;33m\u001b[0m\u001b[0m\n\u001b[1;32m---> 15\u001b[1;33m         \u001b[0msim_scores\u001b[0m \u001b[1;33m=\u001b[0m \u001b[0msim_scores\u001b[0m\u001b[1;33m.\u001b[0m\u001b[0mdrop\u001b[0m\u001b[1;33m(\u001b[0m\u001b[0mnone_rating_idx\u001b[0m\u001b[1;33m)\u001b[0m\u001b[1;33m\u001b[0m\u001b[0m\n\u001b[0m\u001b[0;32m     16\u001b[0m \u001b[1;33m\u001b[0m\u001b[0m\n\u001b[0;32m     17\u001b[0m         \u001b[1;31m# Neighbor size가 지정되지 않은 경우\u001b[0m\u001b[1;33m\u001b[0m\u001b[1;33m\u001b[0m\u001b[0m\n",
      "\u001b[1;32m~\\AppData\\Local\\Programs\\Python\\Python35\\lib\\site-packages\\pandas\\core\\series.py\u001b[0m in \u001b[0;36mdrop\u001b[1;34m(self, labels, axis, index, columns, level, inplace, errors)\u001b[0m\n\u001b[0;32m   4324\u001b[0m             \u001b[0mlevel\u001b[0m\u001b[1;33m=\u001b[0m\u001b[0mlevel\u001b[0m\u001b[1;33m,\u001b[0m\u001b[1;33m\u001b[0m\u001b[0m\n\u001b[0;32m   4325\u001b[0m             \u001b[0minplace\u001b[0m\u001b[1;33m=\u001b[0m\u001b[0minplace\u001b[0m\u001b[1;33m,\u001b[0m\u001b[1;33m\u001b[0m\u001b[0m\n\u001b[1;32m-> 4326\u001b[1;33m             \u001b[0merrors\u001b[0m\u001b[1;33m=\u001b[0m\u001b[0merrors\u001b[0m\u001b[1;33m,\u001b[0m\u001b[1;33m\u001b[0m\u001b[0m\n\u001b[0m\u001b[0;32m   4327\u001b[0m         )\n\u001b[0;32m   4328\u001b[0m \u001b[1;33m\u001b[0m\u001b[0m\n",
      "\u001b[1;32m~\\AppData\\Local\\Programs\\Python\\Python35\\lib\\site-packages\\pandas\\core\\generic.py\u001b[0m in \u001b[0;36mdrop\u001b[1;34m(self, labels, axis, index, columns, level, inplace, errors)\u001b[0m\n\u001b[0;32m   3912\u001b[0m         \u001b[1;32mfor\u001b[0m \u001b[0maxis\u001b[0m\u001b[1;33m,\u001b[0m \u001b[0mlabels\u001b[0m \u001b[1;32min\u001b[0m \u001b[0maxes\u001b[0m\u001b[1;33m.\u001b[0m\u001b[0mitems\u001b[0m\u001b[1;33m(\u001b[0m\u001b[1;33m)\u001b[0m\u001b[1;33m:\u001b[0m\u001b[1;33m\u001b[0m\u001b[0m\n\u001b[0;32m   3913\u001b[0m             \u001b[1;32mif\u001b[0m \u001b[0mlabels\u001b[0m \u001b[1;32mis\u001b[0m \u001b[1;32mnot\u001b[0m \u001b[1;32mNone\u001b[0m\u001b[1;33m:\u001b[0m\u001b[1;33m\u001b[0m\u001b[0m\n\u001b[1;32m-> 3914\u001b[1;33m                 \u001b[0mobj\u001b[0m \u001b[1;33m=\u001b[0m \u001b[0mobj\u001b[0m\u001b[1;33m.\u001b[0m\u001b[0m_drop_axis\u001b[0m\u001b[1;33m(\u001b[0m\u001b[0mlabels\u001b[0m\u001b[1;33m,\u001b[0m \u001b[0maxis\u001b[0m\u001b[1;33m,\u001b[0m \u001b[0mlevel\u001b[0m\u001b[1;33m=\u001b[0m\u001b[0mlevel\u001b[0m\u001b[1;33m,\u001b[0m \u001b[0merrors\u001b[0m\u001b[1;33m=\u001b[0m\u001b[0merrors\u001b[0m\u001b[1;33m)\u001b[0m\u001b[1;33m\u001b[0m\u001b[0m\n\u001b[0m\u001b[0;32m   3915\u001b[0m \u001b[1;33m\u001b[0m\u001b[0m\n\u001b[0;32m   3916\u001b[0m         \u001b[1;32mif\u001b[0m \u001b[0minplace\u001b[0m\u001b[1;33m:\u001b[0m\u001b[1;33m\u001b[0m\u001b[0m\n",
      "\u001b[1;32m~\\AppData\\Local\\Programs\\Python\\Python35\\lib\\site-packages\\pandas\\core\\generic.py\u001b[0m in \u001b[0;36m_drop_axis\u001b[1;34m(self, labels, axis, level, errors)\u001b[0m\n\u001b[0;32m   3944\u001b[0m                 \u001b[0mnew_axis\u001b[0m \u001b[1;33m=\u001b[0m \u001b[0maxis\u001b[0m\u001b[1;33m.\u001b[0m\u001b[0mdrop\u001b[0m\u001b[1;33m(\u001b[0m\u001b[0mlabels\u001b[0m\u001b[1;33m,\u001b[0m \u001b[0mlevel\u001b[0m\u001b[1;33m=\u001b[0m\u001b[0mlevel\u001b[0m\u001b[1;33m,\u001b[0m \u001b[0merrors\u001b[0m\u001b[1;33m=\u001b[0m\u001b[0merrors\u001b[0m\u001b[1;33m)\u001b[0m\u001b[1;33m\u001b[0m\u001b[0m\n\u001b[0;32m   3945\u001b[0m             \u001b[1;32melse\u001b[0m\u001b[1;33m:\u001b[0m\u001b[1;33m\u001b[0m\u001b[0m\n\u001b[1;32m-> 3946\u001b[1;33m                 \u001b[0mnew_axis\u001b[0m \u001b[1;33m=\u001b[0m \u001b[0maxis\u001b[0m\u001b[1;33m.\u001b[0m\u001b[0mdrop\u001b[0m\u001b[1;33m(\u001b[0m\u001b[0mlabels\u001b[0m\u001b[1;33m,\u001b[0m \u001b[0merrors\u001b[0m\u001b[1;33m=\u001b[0m\u001b[0merrors\u001b[0m\u001b[1;33m)\u001b[0m\u001b[1;33m\u001b[0m\u001b[0m\n\u001b[0m\u001b[0;32m   3947\u001b[0m             \u001b[0mresult\u001b[0m \u001b[1;33m=\u001b[0m \u001b[0mself\u001b[0m\u001b[1;33m.\u001b[0m\u001b[0mreindex\u001b[0m\u001b[1;33m(\u001b[0m\u001b[1;33m**\u001b[0m\u001b[1;33m{\u001b[0m\u001b[0maxis_name\u001b[0m\u001b[1;33m:\u001b[0m \u001b[0mnew_axis\u001b[0m\u001b[1;33m}\u001b[0m\u001b[1;33m)\u001b[0m\u001b[1;33m\u001b[0m\u001b[0m\n\u001b[0;32m   3948\u001b[0m \u001b[1;33m\u001b[0m\u001b[0m\n",
      "\u001b[1;32m~\\AppData\\Local\\Programs\\Python\\Python35\\lib\\site-packages\\pandas\\core\\indexes\\base.py\u001b[0m in \u001b[0;36mdrop\u001b[1;34m(self, labels, errors)\u001b[0m\n\u001b[0;32m   5333\u001b[0m         \"\"\"\n\u001b[0;32m   5334\u001b[0m         \u001b[0marr_dtype\u001b[0m \u001b[1;33m=\u001b[0m \u001b[1;34m\"object\"\u001b[0m \u001b[1;32mif\u001b[0m \u001b[0mself\u001b[0m\u001b[1;33m.\u001b[0m\u001b[0mdtype\u001b[0m \u001b[1;33m==\u001b[0m \u001b[1;34m\"object\"\u001b[0m \u001b[1;32melse\u001b[0m \u001b[1;32mNone\u001b[0m\u001b[1;33m\u001b[0m\u001b[0m\n\u001b[1;32m-> 5335\u001b[1;33m         \u001b[0mlabels\u001b[0m \u001b[1;33m=\u001b[0m \u001b[0mcom\u001b[0m\u001b[1;33m.\u001b[0m\u001b[0mindex_labels_to_array\u001b[0m\u001b[1;33m(\u001b[0m\u001b[0mlabels\u001b[0m\u001b[1;33m,\u001b[0m \u001b[0mdtype\u001b[0m\u001b[1;33m=\u001b[0m\u001b[0marr_dtype\u001b[0m\u001b[1;33m)\u001b[0m\u001b[1;33m\u001b[0m\u001b[0m\n\u001b[0m\u001b[0;32m   5336\u001b[0m         \u001b[0mindexer\u001b[0m \u001b[1;33m=\u001b[0m \u001b[0mself\u001b[0m\u001b[1;33m.\u001b[0m\u001b[0mget_indexer\u001b[0m\u001b[1;33m(\u001b[0m\u001b[0mlabels\u001b[0m\u001b[1;33m)\u001b[0m\u001b[1;33m\u001b[0m\u001b[0m\n\u001b[0;32m   5337\u001b[0m         \u001b[0mmask\u001b[0m \u001b[1;33m=\u001b[0m \u001b[0mindexer\u001b[0m \u001b[1;33m==\u001b[0m \u001b[1;33m-\u001b[0m\u001b[1;36m1\u001b[0m\u001b[1;33m\u001b[0m\u001b[0m\n",
      "\u001b[1;32m~\\AppData\\Local\\Programs\\Python\\Python35\\lib\\site-packages\\pandas\\core\\common.py\u001b[0m in \u001b[0;36mindex_labels_to_array\u001b[1;34m(labels, dtype)\u001b[0m\n\u001b[0;32m    280\u001b[0m     \u001b[1;32mif\u001b[0m \u001b[1;32mnot\u001b[0m \u001b[0misinstance\u001b[0m\u001b[1;33m(\u001b[0m\u001b[0mlabels\u001b[0m\u001b[1;33m,\u001b[0m \u001b[1;33m(\u001b[0m\u001b[0mlist\u001b[0m\u001b[1;33m,\u001b[0m \u001b[0mnp\u001b[0m\u001b[1;33m.\u001b[0m\u001b[0mndarray\u001b[0m\u001b[1;33m)\u001b[0m\u001b[1;33m)\u001b[0m\u001b[1;33m:\u001b[0m\u001b[1;33m\u001b[0m\u001b[0m\n\u001b[0;32m    281\u001b[0m         \u001b[1;32mtry\u001b[0m\u001b[1;33m:\u001b[0m\u001b[1;33m\u001b[0m\u001b[0m\n\u001b[1;32m--> 282\u001b[1;33m             \u001b[0mlabels\u001b[0m \u001b[1;33m=\u001b[0m \u001b[0mlist\u001b[0m\u001b[1;33m(\u001b[0m\u001b[0mlabels\u001b[0m\u001b[1;33m)\u001b[0m\u001b[1;33m\u001b[0m\u001b[0m\n\u001b[0m\u001b[0;32m    283\u001b[0m         \u001b[1;32mexcept\u001b[0m \u001b[0mTypeError\u001b[0m\u001b[1;33m:\u001b[0m  \u001b[1;31m# non-iterable\u001b[0m\u001b[1;33m\u001b[0m\u001b[0m\n\u001b[0;32m    284\u001b[0m             \u001b[0mlabels\u001b[0m \u001b[1;33m=\u001b[0m \u001b[1;33m[\u001b[0m\u001b[0mlabels\u001b[0m\u001b[1;33m]\u001b[0m\u001b[1;33m\u001b[0m\u001b[0m\n",
      "\u001b[1;31mKeyboardInterrupt\u001b[0m: "
     ]
    }
   ],
   "source": [
    "# 모델별 RMSE를 계산하는 함수\n",
    "def score(model, neighbor_size):\n",
    "    id_pairs = zip(x_test['user'], x_test['category'])\n",
    "    y_pred = np.array([model(user, category, neighbor_size) for (user, category) in id_pairs])\n",
    "    y_true = np.array(x_test['score'])\n",
    "    return RMSE(y_true, y_pred)\n",
    "\n",
    "# Neighbor size를 정해서 예측치를 계산하는 함수\n",
    "def cf_knn(user, category, neighbor_size=0):\n",
    "    if category in train_matrix:\n",
    "        sim_scores = user_similarity[user].copy()\n",
    "        category_score = train_matrix[category].copy()\n",
    "        none_rating_idx = category_score[category_score.isnull()].index\n",
    "        category_score = category_score.dropna()\n",
    "        sim_scores = sim_scores.drop(none_rating_idx)\n",
    "        \n",
    "        # Neighbor size가 지정되지 않은 경우\n",
    "        if neighbor_size == 0:\n",
    "            if sim_scores.sum() > 1:\n",
    "                mean_rating = np.dot(sim_scores, category_score) / sim_scores.sum()\n",
    "            else:\n",
    "                mean_rating = 3.0\n",
    "        \n",
    "        # Neighbor size가 지정된 경우\n",
    "        else:\n",
    "            if len(sim_scores) > 1:\n",
    "                neighbor_size = min(neighbor_size, len(sim_scores))\n",
    "                sim_scores = np.array(sim_scores)\n",
    "                category_score = np.array(category_score)\n",
    "                user_idx = np.argsort(sim_scores)\n",
    "                sim_scores = sim_scores[user_idx][-neighbor_size:]\n",
    "                category_score = category_score[user_idx][-neighbor_size:]\n",
    "                if sim_scores.sum() > 1:\n",
    "                    mean_rating = np.dot(sim_scores, category_score) / sim_scores.sum()\n",
    "                else:\n",
    "                    mean_rating = 3.0\n",
    "            else:\n",
    "                mean_rating = 3.0\n",
    "    else:\n",
    "        mean_rating = 3.0\n",
    "    return mean_rating\n",
    "\n",
    "# 정확도 계산\n",
    "for neighbor_size in [10, 20, 30, 40, 50, 60]:\n",
    "    print(\"이웃 크기: {0}, RMSE: {1:.4f}\".format(neighbor_size, score(cf_knn, neighbor_size)))"
   ]
  },
  {
   "cell_type": "code",
   "execution_count": null,
   "metadata": {},
   "outputs": [],
   "source": [
    "def recommend_knn(user, n_items):\n",
    "    user_category = score_matrix.loc[user].copy()\n",
    "    for category in score_matrix:\n",
    "        if pd.notnull(user_category.loc[category]):\n",
    "            user_category.loc[category] = 0\n",
    "        else:\n",
    "            user_category.loc[category] = cf_knn(user, category, 30)\n",
    "    category_sort = user_category.sort_values(ascending=False)[:n_items]\n",
    "    return category_sort\n",
    "\n",
    "print('7번 유저 추천')\n",
    "print(recommend_knn(user=7, n_items=10))\n",
    "\n",
    "print('15번 유저 추천')\n",
    "print(recommend_knn(user=15, n_items=10))"
   ]
  }
 ],
 "metadata": {
  "kernelspec": {
   "display_name": "Python 3",
   "language": "python",
   "name": "python3"
  },
  "language_info": {
   "codemirror_mode": {
    "name": "ipython",
    "version": 3
   },
   "file_extension": ".py",
   "mimetype": "text/x-python",
   "name": "python",
   "nbconvert_exporter": "python",
   "pygments_lexer": "ipython3",
   "version": "3.5.3"
  }
 },
 "nbformat": 4,
 "nbformat_minor": 4
}
