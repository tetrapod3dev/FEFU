{
 "cells": [
  {
   "cell_type": "code",
   "execution_count": 1,
   "metadata": {},
   "outputs": [],
   "source": [
    "import pandas as pd\n",
    "\n",
    "dataframes = pd.read_pickle('data/review.pkl')\n",
    "\n",
    "# 기존에저장한 stores / reviews 데이터를 merge합니다. (reviews에 category 관련 정보 저장용)\n",
    "category_score = pd.merge(\n",
    "    dataframes[\"stores\"], dataframes[\"reviews\"], left_on=\"id\", right_on=\"store\"\n",
    ")[[\"category\", \"user\", \"score\"]]\n",
    "\n",
    "# category를 기준으로 각각의 row를 여러개의 row로 분리했습니다.\n",
    "category_score[\"category\"] = category_score[\"category\"].apply(lambda c: c.split(\"|\"))\n",
    "category_explode = category_score.explode(\"category\").set_index('user')\n",
    "\n",
    "# category_explode의 columns : [user, category, score]\n",
    "# 현재는 한 명의 user가 여러개의 category에 중복해서 점수를 준 상황입니다.\n",
    "# (서로 다른 음식점이 같은 category를 가진 경우)"
   ]
  },
  {
   "cell_type": "code",
   "execution_count": 2,
   "metadata": {},
   "outputs": [],
   "source": [
    "# category_explode에 있는 데이터를 category의 평균 평점 / 리뷰 개수로 바꿔주었습니다.\n",
    "category_scores = (category_explode.groupby([\"category\"])[\"score\"]\n",
    "                  .agg([\"mean\", \"size\"])\n",
    "                  .reset_index()\n",
    "                  .drop([0]))\n",
    "\n",
    "# category_scores 리뷰의 개수가 5개 미만인 category를 제거했습니다.\n",
    "# (추천 정확도 향상 목적 / 추천할 때 죄다 평점이 5.0이어서 추천의 의미가 없음)\n",
    "category_scores_mean = category_scores[category_scores[\"size\"] >= 5].set_index([\"category\"])[\"mean\"].index"
   ]
  },
  {
   "cell_type": "code",
   "execution_count": 3,
   "metadata": {},
   "outputs": [],
   "source": [
    "# category_user_score : 기존 category_explode에서 리뷰 수가 5개 이상인 리뷰만 남겼습니다.\n",
    "category_user_score = category_explode[category_explode[\"category\"].isin(category_scores_mean)].reset_index()\n",
    "\n",
    "# 다시 user / category의 평점을 기준으로 평균값을 계산했고,\n",
    "category_user_score = category_user_score.groupby([\"user\",\"category\"])[\"score\"].mean().reset_index()\n",
    "\n",
    "# user-category의 full matrix를 생성했습니다. (score_matrix)\n",
    "score_matrix = pd.pivot(data=category_user_score, index=\"user\", columns=\"category\", values=\"score\")"
   ]
  },
  {
   "cell_type": "code",
   "execution_count": 4,
   "metadata": {
    "scrolled": false
   },
   "outputs": [
    {
     "name": "stdout",
     "output_type": "stream",
     "text": [
      "category\n",
      "bar       4.090909\n",
      "cafe      3.806283\n",
      "la갈비      3.545455\n",
      "lp바       4.400000\n",
      "pasta     3.886364\n",
      "            ...   \n",
      "흑염소       3.526316\n",
      "흑우        3.500000\n",
      "흑임자팥빙수    3.214286\n",
      "히레까스      4.040000\n",
      "히츠마부시     4.272727\n",
      "Name: 7, Length: 2385, dtype: float64\n",
      "category\n",
      "해산물뷔페     5.000000\n",
      "철판제육볶음    5.000000\n",
      "국수        5.000000\n",
      "소고기국수     5.000000\n",
      "떡볶이돈까스    5.000000\n",
      "고려음식      4.863636\n",
      "칠면조       4.857143\n",
      "오리초밥      4.833333\n",
      "루프트탑      4.833333\n",
      "문화카페      4.833333\n",
      "Name: 7, dtype: float64\n"
     ]
    }
   ],
   "source": [
    "def recommend_category(user, n_items):\n",
    "    \"\"\"\n",
    "    각각의 user에 대해 best_seller model을 이용해서 n_items 개의 카테고리를 추천해줍니다.\n",
    "    user_category : 실제 데이터를 기준으로 카테고리에 대한 현재 유저의 평가 정보 데이터를 가져옵니다.\n",
    "    rating_matrix에 있는 category들에 대해서\n",
    "    만약 user_category의 해당 category 값이 NaN이라면, 유저가 해당 카테고리를 평가하지 않았다는 의미입니다.\n",
    "    해당 경우에 best_seller model을 사용해서 예상값을 입력했습니다.\n",
    "    아닐 경우 user가 입력한 category의 평균 평점을 유지했습니다.\n",
    "    예상값을 모두 입력한 후에는 정렬 후 n_items개의 Item만 return합니다.\n",
    "    \"\"\"\n",
    "    user_category = score_matrix.loc[user]\n",
    "    for category in score_matrix:\n",
    "        if pd.isnull(user_category.loc[category]):\n",
    "            user_category.loc[category] = best_seller(user, category)\n",
    "    print(user_category)\n",
    "    category_sort = user_category.sort_values(ascending=False)[:n_items]\n",
    "    return category_sort\n",
    "\n",
    "# 전체 평균으로 예측치를 계산하는 기본 모델\n",
    "def best_seller(user, category):\n",
    "    \"\"\"\n",
    "        category_mean dataframe에 category가 있다면 (평가 데이터가 존재하는 경우)\n",
    "        해당 평균값을 리턴합니다.\n",
    "        아닌 경우, 전체 리뷰의 평점을 리턴합니다. (중간값보다는 평균값을 채용했습니다.)\n",
    "    \"\"\"\n",
    "    try:\n",
    "        score = category_mean[category]\n",
    "    except:\n",
    "        score = category_explode['score'].mean()\n",
    "    return score\n",
    "\n",
    "# category_mean : 각 카테고리의 전체 평균 평점입니다.\n",
    "category_mean = category_explode.groupby(['category'])['score'].mean()\n",
    "print(recommend_category(7, 10))\n",
    "# 최초에는 5.0의 평점을 가진 카테고리가 나오는데,\n",
    "# 이건 사용자가 5점을 준 리뷰들이 있어서 이렇게 나옵니다.\n",
    "# 5.0 이후에는 전체 평점이 높은 카테고리가 출력됩니다."
   ]
  },
  {
   "cell_type": "code",
   "execution_count": 5,
   "metadata": {},
   "outputs": [
    {
     "name": "stdout",
     "output_type": "stream",
     "text": [
      "                 size      mean\n",
      "category gender                \n",
      "bar      남         22  3.909091\n",
      "         여         44  4.181818\n",
      "cafe     남         67  3.537313\n",
      "         여        124  3.951613\n",
      "la갈비     여          7  3.571429\n",
      "...               ...       ...\n",
      "흑임자팥빙수   여          9  3.444444\n",
      "히레까스     남         31  3.935484\n",
      "         여         19  4.210526\n",
      "히츠마부시    남         15  4.133333\n",
      "         여          7  4.571429\n",
      "\n",
      "[3623 rows x 2 columns]\n"
     ]
    }
   ],
   "source": [
    "# user의 데이터(성별, 연령)을 기준으로 그룹화하여 추천하기 위한 함수입니다.\n",
    "# 먼저, users dataframes에서 유저 정보를 받아옵니다.\n",
    "users = dataframes['users'].rename(columns={'id': 'user'}).set_index('user')\n",
    "\n",
    "# category_explode와 users dataframe을 합쳐줍니다. (평가에 유저 정보 포함하기 위함)\n",
    "merged_scores = pd.merge(category_explode, users, left_index=True, right_index=True)\n",
    "\n",
    "# merge한 데이터를 category와 gender를 기준으로 점수를 통계냅니다.\n",
    "# drop([0, 1])은 빈 카테고리값이 들어가서...\n",
    "gender_scores = (merged_scores.groupby(['category', 'gender'])['score']\n",
    "                 .agg([\"size\", \"mean\"])\n",
    "                 .reset_index()\n",
    "                 .drop([0, 1]))\n",
    "\n",
    "# 마찬가지로 평가가 5개 이상인 그룹의 데이터만 남겨줬습니다.\n",
    "gender_scores = gender_scores[gender_scores['size'] >= 5]\n",
    "gender_scores = gender_scores.set_index(['category', 'gender'])\n",
    "category_mean = category_explode.groupby(['category'])['score'].mean()\n",
    "# 현재 category / gender로 계층적 인덱스가 적용되어있고, size와 mean값이 들어 있습니다.\n",
    "print(gender_scores)\n",
    "\n",
    "# 해당하는 category들만 모아줍니다.\n",
    "gender_scores_index = gender_scores.index.get_level_values(0)\n",
    "\n",
    "# 한번 cafe category의 세부 내용을 봤습니다...\n",
    "# print(gender_scores.loc['cafe'])"
   ]
  },
  {
   "cell_type": "code",
   "execution_count": 6,
   "metadata": {},
   "outputs": [],
   "source": [
    "# category_user_score : 기존 category_explode에서 리뷰 수가 5개 이상인 리뷰만 남겼습니다.\n",
    "category_user_score = category_explode[category_explode[\"category\"].isin(category_scores_mean)].reset_index()\n",
    "\n",
    "# 다시 user / category의 평점을 기준으로 평균값을 계산했고,\n",
    "category_user_score = category_user_score.groupby([\"user\",\"category\"])[\"score\"].mean().reset_index()\n",
    "\n",
    "# user-category의 full matrix를 생성했습니다. (score_matrix)\n",
    "score_matrix = pd.pivot(data=category_user_score, index=\"user\", columns=\"category\", values=\"score\")"
   ]
  },
  {
   "cell_type": "code",
   "execution_count": 7,
   "metadata": {
    "scrolled": true
   },
   "outputs": [
    {
     "name": "stdout",
     "output_type": "stream",
     "text": [
      "category\n",
      "해산물뷔페      5.000000\n",
      "국수         5.000000\n",
      "소고기국수      5.000000\n",
      "고려음식       4.863636\n",
      "칠면조        4.857143\n",
      "손순두부       4.833333\n",
      "오리초밥       4.833333\n",
      "핸드메이드      4.818182\n",
      "양고기숯불구이    4.800000\n",
      "은어튀김       4.800000\n",
      "Name: 7, dtype: float64\n"
     ]
    }
   ],
   "source": [
    "def recommend_gender_category(user, n_items):\n",
    "    \"\"\"\n",
    "        이번에도 마찬가지로 gender 평균을 기준으로 추천해줬습니다.\n",
    "    \"\"\"\n",
    "    user_category = score_matrix.loc[user]\n",
    "    for category in score_matrix:\n",
    "        if pd.isnull(user_category.loc[category]):\n",
    "            user_category.loc[category] = best_seller_gender(user, category)\n",
    "#     print(user_category)\n",
    "    category_sort = user_category.sort_values(ascending=False)[:n_items]\n",
    "    return category_sort\n",
    "\n",
    "def best_seller_gender(user, category):\n",
    "    \"\"\"\n",
    "        해당 카테고리에 대해 성별 데이터가 있다면 해당 데이터를\n",
    "        해당 카테고리에 대해 성별 데이터가 없다면 전체 평균 데이터를 넣었습니다.\n",
    "    \"\"\"\n",
    "    if category in gender_scores_index:\n",
    "        gender = users.loc[user]['gender']\n",
    "        if gender in gender_scores.loc[category]:\n",
    "            gender_rating = gender_scores.loc[category, gender]\n",
    "        else:\n",
    "            gender_rating = category_mean[category]\n",
    "    else:\n",
    "        gender_rating = 3.0\n",
    "    return gender_rating\n",
    "\n",
    "# 별 차이 없어 보이네요 :)\n",
    "print(recommend_gender_category(7, 10))"
   ]
  },
  {
   "cell_type": "code",
   "execution_count": 8,
   "metadata": {},
   "outputs": [
    {
     "name": "stdout",
     "output_type": "stream",
     "text": [
      "              size      mean\n",
      "category age                \n",
      "bar      2      32  4.125000\n",
      "         3      29  4.068966\n",
      "cafe     2     105  3.923810\n",
      "         3      65  3.723077\n",
      "         4      15  3.266667\n",
      "...            ...       ...\n",
      "히레까스     2      22  4.090909\n",
      "         3      22  4.045455\n",
      "         4       5  3.800000\n",
      "히츠마부시    2      11  4.363636\n",
      "         3       7  3.857143\n",
      "\n",
      "[4635 rows x 2 columns]\n"
     ]
    }
   ],
   "source": [
    "# user의 연령을 기준으로 그룹화하여 추천하기 위한 함수입니다.\n",
    "# 먼저, users dataframes에서 유저 정보를 받아옵니다.\n",
    "users2 = dataframes['users'].rename(columns={'id': 'user'}).set_index('user')\n",
    "users2['age'] = users2['age'].apply(lambda x: x//10)\n",
    "\n",
    "# category_explode와 users dataframe을 합쳐줍니다. (평가에 유저 정보 포함하기 위함)\n",
    "merged_scores2 = pd.merge(category_explode, users2, left_index=True, right_index=True)\n",
    "\n",
    "# merge한 데이터를 category와 gender를 기준으로 점수를 통계냅니다.\n",
    "age_scores = (merged_scores2.groupby(['category', 'age'])['score']\n",
    "                 .agg([\"size\", \"mean\"])\n",
    "                 .reset_index()\n",
    "                 .drop([0, 1, 2, 3, 4, 5, 6]))\n",
    "\n",
    "# 마찬가지로 평가가 5개 이상인 그룹의 데이터만 남겨줬습니다.\n",
    "age_scores = age_scores[age_scores['size'] >= 5]\n",
    "age_scores = age_scores.set_index(['category', 'age'])\n",
    "print(age_scores)"
   ]
  },
  {
   "cell_type": "code",
   "execution_count": 9,
   "metadata": {},
   "outputs": [],
   "source": [
    "import numpy as np\n",
    "\n",
    "# 실제값과 예측값의 RMSE 계산해주는 함수\n",
    "def RMSE(y_true, y_pred):\n",
    "    return np.sqrt(np.mean((np.array(y_true)- np.array(y_pred)) ** 2))\n",
    "\n",
    "# 모델의 RMSE 계산\n",
    "def score(model):\n",
    "    id_pairs = zip(x_test['user'], x_test['category'])\n",
    "    y_pred = np.array([model(user, category) for (user, category) in id_pairs])\n",
    "    y_true = np.array(x_test['score'])\n",
    "    return RMSE(y_true, y_pred)"
   ]
  },
  {
   "cell_type": "code",
   "execution_count": 10,
   "metadata": {},
   "outputs": [],
   "source": [
    "# 이후부터는 모델의 정확성을 한번 평가해봤습니다.\n",
    "\n",
    "from sklearn.model_selection import train_test_split\n",
    "\n",
    "x = category_user_score.copy()\n",
    "y = category_user_score['user']\n",
    "x_train, x_test, y_train, y_test = train_test_split(x, y, test_size=0.25)\n",
    "\n",
    "train_matrix = x_train.pivot(index='user', columns='category', values='score')\n",
    "# 75%는 train set / 25%는 test set으로 분리했습니다."
   ]
  },
  {
   "cell_type": "code",
   "execution_count": 11,
   "metadata": {},
   "outputs": [
    {
     "data": {
      "text/plain": [
       "1.1309392190162577"
      ]
     },
     "execution_count": 11,
     "metadata": {},
     "output_type": "execute_result"
    }
   ],
   "source": [
    "# 전체 평균으로 예측치를 계산하는 기본 모델\n",
    "def best_seller(user, category):\n",
    "    try:\n",
    "        score = train_mean[category]\n",
    "    except:\n",
    "        score = x_train['score'].mean()\n",
    "    return score\n",
    "\n",
    "train_mean = x_train.groupby(['category'])['score'].mean()\n",
    "score(best_seller)"
   ]
  },
  {
   "cell_type": "code",
   "execution_count": 12,
   "metadata": {},
   "outputs": [
    {
     "data": {
      "text/plain": [
       "1.0976689304070308"
      ]
     },
     "execution_count": 12,
     "metadata": {},
     "output_type": "execute_result"
    }
   ],
   "source": [
    "# gender 별 평균을 예측치로 돌려주는 함수\n",
    "def best_seller_gender(user, category):\n",
    "    if (category in train_matrix) and (category in gender_mean):\n",
    "        gender = users.loc[user]['gender']\n",
    "        if gender in gender_mean[category]:\n",
    "            gender_rating = gender_mean[category][gender]\n",
    "        else:\n",
    "            gender_rating = train_mean[category]\n",
    "    else:\n",
    "        gender_rating = x_train['score'].mean()\n",
    "    return gender_rating\n",
    "\n",
    "gender_mean = gender_scores['mean']\n",
    "train_mean = x_train.groupby(['category'])['score'].mean()\n",
    "score(best_seller_gender)"
   ]
  },
  {
   "cell_type": "code",
   "execution_count": 13,
   "metadata": {},
   "outputs": [
    {
     "data": {
      "text/plain": [
       "1.1282858320238718"
      ]
     },
     "execution_count": 13,
     "metadata": {},
     "output_type": "execute_result"
    }
   ],
   "source": [
    "# age band 별 평균을 예측치로 돌려주는 함수\n",
    "def best_seller_age(user, category):\n",
    "    if (category in train_matrix) and (category in age_mean):\n",
    "        age = users.loc[user]['age']\n",
    "        if age in age_mean[category]:\n",
    "            age_rating = age_mean[category][age]\n",
    "        else:\n",
    "            age_rating = train_mean[category]\n",
    "    else:\n",
    "        age_rating = x_train['score'].mean()\n",
    "    return age_rating\n",
    "\n",
    "age_mean = age_scores['mean']\n",
    "train_mean = x_train.groupby(['category'])['score'].mean()\n",
    "score(best_seller_age)"
   ]
  }
 ],
 "metadata": {
  "kernelspec": {
   "display_name": "Python 3",
   "language": "python",
   "name": "python3"
  },
  "language_info": {
   "codemirror_mode": {
    "name": "ipython",
    "version": 3
   },
   "file_extension": ".py",
   "mimetype": "text/x-python",
   "name": "python",
   "nbconvert_exporter": "python",
   "pygments_lexer": "ipython3",
   "version": "3.5.3"
  }
 },
 "nbformat": 4,
 "nbformat_minor": 4
}
