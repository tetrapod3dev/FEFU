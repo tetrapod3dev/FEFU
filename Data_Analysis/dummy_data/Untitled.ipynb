{
 "cells": [
  {
   "cell_type": "code",
   "execution_count": 3,
   "metadata": {
    "scrolled": true
   },
   "outputs": [
    {
     "name": "stdout",
     "output_type": "stream",
     "text": [
      "category      1         2         3         4         11        12    \\\n",
      "category                                                               \n",
      "1         1.000000  0.645490  0.422701  0.412301  0.244620  0.241742   \n",
      "2         0.645490  1.000000  0.396248  0.380581  0.253566  0.279833   \n",
      "3         0.422701  0.396248  1.000000  0.775455  0.468041  0.497103   \n",
      "4         0.412301  0.380581  0.775455  1.000000  0.463019  0.471099   \n",
      "11        0.244620  0.253566  0.468041  0.463019  1.000000  0.698539   \n",
      "...            ...       ...       ...       ...       ...       ...   \n",
      "1092      0.287529  0.328959  0.046322  0.044060  0.224116  0.228093   \n",
      "1093      0.052932  0.058778  0.068546  0.108284  0.250429  0.258052   \n",
      "1094      0.050330  0.069357  0.073624  0.088767  0.335042  0.263060   \n",
      "1101      0.224843  0.188819  0.000000  0.000000  0.000000  0.000000   \n",
      "1102      0.031775  0.035101  0.000000  0.000000  0.000000  0.000000   \n",
      "\n",
      "category      13        14        21        31    ...      1081      1082  \\\n",
      "category                                          ...                       \n",
      "1         0.370380  0.355238  0.401976  0.555504  ...  0.187533  0.196915   \n",
      "2         0.427345  0.390040  0.380962  0.569263  ...  0.150287  0.163208   \n",
      "3         0.706668  0.696929  0.771056  0.318429  ...  0.000000  0.000000   \n",
      "4         0.768001  0.769544  0.778170  0.328528  ...  0.000000  0.000000   \n",
      "11        0.474053  0.481626  0.467587  0.194872  ...  0.000000  0.000000   \n",
      "...            ...       ...       ...       ...  ...       ...       ...   \n",
      "1092      0.071394  0.051518  0.045757  0.285822  ...  0.361204  0.340267   \n",
      "1093      0.105197  0.122164  0.101770  0.058817  ...  0.110829  0.109101   \n",
      "1094      0.129588  0.126529  0.097769  0.055084  ...  0.102035  0.100444   \n",
      "1101      0.000000  0.000000  0.000000  0.228150  ...  0.689992  0.653840   \n",
      "1102      0.000000  0.000000  0.000000  0.044951  ...  0.566028  0.528289   \n",
      "\n",
      "category      1083      1084      1091      1092      1093      1094  \\\n",
      "category                                                               \n",
      "1         0.162295  0.161263  0.295723  0.287529  0.052932  0.050330   \n",
      "2         0.160980  0.137722  0.343086  0.328959  0.058778  0.069357   \n",
      "3         0.000000  0.000000  0.058366  0.046322  0.068546  0.073624   \n",
      "4         0.000000  0.000000  0.083214  0.044060  0.108284  0.088767   \n",
      "11        0.000000  0.000000  0.243353  0.224116  0.250429  0.335042   \n",
      "...            ...       ...       ...       ...       ...       ...   \n",
      "1092      0.325971  0.341490  0.690288  1.000000  0.459511  0.538160   \n",
      "1093      0.114183  0.115288  0.422087  0.459511  1.000000  0.570980   \n",
      "1094      0.105123  0.106140  0.499710  0.538160  0.570980  1.000000   \n",
      "1101      0.653295  0.610422  0.341052  0.328911  0.119352  0.109882   \n",
      "1102      0.533644  0.541583  0.275487  0.267879  0.148250  0.136486   \n",
      "\n",
      "category      1101      1102  \n",
      "category                      \n",
      "1         0.224843  0.031775  \n",
      "2         0.188819  0.035101  \n",
      "3         0.000000  0.000000  \n",
      "4         0.000000  0.000000  \n",
      "11        0.000000  0.000000  \n",
      "...            ...       ...  \n",
      "1092      0.328911  0.267879  \n",
      "1093      0.119352  0.148250  \n",
      "1094      0.109882  0.136486  \n",
      "1101      1.000000  0.606683  \n",
      "1102      0.606683  1.000000  \n",
      "\n",
      "[423 rows x 423 columns]\n"
     ]
    }
   ],
   "source": [
    "from sklearn.metrics.pairwise import cosine_similarity\n",
    "import numpy as np\n",
    "import pandas as pd\n",
    "\n",
    "\n",
    "dataframes = pd.read_pickle('dummy_data2.pkl')\n",
    "\n",
    "df_counts = dataframes['view_counts']\n",
    "\n",
    "view_matrix = df_counts.pivot(index='user', columns='category', values='count')\n",
    "view_matrix_t = np.transpose(view_matrix)\n",
    "\n",
    "matrix_dummy = view_matrix_t.copy().fillna(0)\n",
    "item_similarity = cosine_similarity(matrix_dummy, matrix_dummy)\n",
    "item_similarity = pd.DataFrame(item_similarity, index=view_matrix_t.index,\n",
    "                               columns=view_matrix_t.index)\n",
    "\n",
    "print(item_similarity)\n",
    "pd.to_pickle(item_similarity, 'IS.pkl')"
   ]
  },
  {
   "cell_type": "code",
   "execution_count": 3,
   "metadata": {},
   "outputs": [
    {
     "data": {
      "text/plain": [
       "category\n",
       "1061    0.000000\n",
       "622     0.000000\n",
       "621     0.000000\n",
       "953     0.000000\n",
       "961     0.000000\n",
       "          ...   \n",
       "852     0.633694\n",
       "832     0.640026\n",
       "833     0.647098\n",
       "821     0.679644\n",
       "851     1.000000\n",
       "Name: 851, Length: 423, dtype: float64"
      ]
     },
     "execution_count": 3,
     "metadata": {},
     "output_type": "execute_result"
    }
   ],
   "source": [
    "item_similarity.loc[851].sort_values()"
   ]
  },
  {
   "cell_type": "code",
   "execution_count": 2,
   "metadata": {},
   "outputs": [],
   "source": [
    "item_similarity2 = view_matrix.corr()\n",
    "pd.to_pickle(item_similarity2, 'IS.pkl')"
   ]
  },
  {
   "cell_type": "code",
   "execution_count": null,
   "metadata": {},
   "outputs": [],
   "source": []
  }
 ],
 "metadata": {
  "kernelspec": {
   "display_name": "Python 3",
   "language": "python",
   "name": "python3"
  },
  "language_info": {
   "codemirror_mode": {
    "name": "ipython",
    "version": 3
   },
   "file_extension": ".py",
   "mimetype": "text/x-python",
   "name": "python",
   "nbconvert_exporter": "python",
   "pygments_lexer": "ipython3",
   "version": "3.5.3"
  }
 },
 "nbformat": 4,
 "nbformat_minor": 4
}
