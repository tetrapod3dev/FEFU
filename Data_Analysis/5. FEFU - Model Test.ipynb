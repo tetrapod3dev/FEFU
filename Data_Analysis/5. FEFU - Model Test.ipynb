{
 "cells": [
  {
   "cell_type": "code",
   "execution_count": 1,
   "metadata": {},
   "outputs": [],
   "source": [
    "import pandas as pd\n",
    "import numpy as np\n",
    "import pickle\n",
    "\n",
    "dataframes = pd.read_pickle('recom_data/user_category_dummy.pkl')\n",
    "\n",
    "df_counts = dataframes['view_counts']\n",
    "df_users = dataframes['users']\n",
    "\n",
    "with open('recom_data/category_dict.pkl', 'rb') as handle:\n",
    "    category_dict = pickle.load(handle)\n",
    "\n",
    "item_similarity = pd.read_pickle('recom_data/item_similarity.pkl')\n",
    "\n",
    "category_dict[855] = '유아동 도서'\n",
    "category_dict[1071] = '교육 도서'\n",
    "category_dict[1072] = '학습 도서'\n",
    "\n",
    "sub_to_med = {1: 1, 2: 1, 3: 1, 4: 1, 11: 2, 12: 2, 13: 2, 14: 2, 21: 3, 31: 21, 32: 21, 33: 21, 34: 21, 35: 21, 41: 22, 42: 22, 43: 22, 44: 22, 45: 22, 51: 23, 52: 23, 61: 24, 62: 24, 63: 24, 71: 25, 72: 25, 73: 25, 81: 26, 82: 26, 83: 26, 91: 27, 92: 27, 93: 27, 101: 28, 102: 28, 103: 28, 104: 28, 105: 28, 111: 29, 112: 29, 113: 29, 114: 29, 115: 29, 116: 29, 121: 30, 122: 30, 123: 30, 131: 31, 132: 31, 133: 31, 141: 32, 142: 32, 151: 33, 152: 33, 153: 33, 161: 34, 162: 34, 163: 34, 164: 34, 165: 34, 171: 35, 181: 41, 182: 41, 183: 41, 191: 42, 192: 42, 193: 42, 194: 42, 201: 43, 202: 43, 203: 43, 204: 43, 205: 43, 211: 44, 212: 44, 213: 44, 214: 44, 215: 44, 221: 45, 222: 45, 223: 45, 224: 45, 231: 46, 232: 46, 233: 46, 234: 46, 235: 46, 236: 46, 241: 47, 242: 47, 243: 47, 244: 47, 251: 48, 252: 48, 253: 48, 254: 48, 255: 48, 261: 49, 262: 49, 263: 49, 264: 49, 271: 50, 272: 50, 273: 50, 274: 50, 281: 51, 282: 51, 283: 51, 291: \n",
    "52, 292: 52, 293: 52, 301: 53, 311: 61, 312: 61, 313: 61, 314: 61, 315: 61, 316: 61, 321: 62, 322: 62, 323: 62, 331: 63, 332: 63, 333: 63, 334: 63, 335: 63, 336: 63, 341: 64, 342: 64, 351: 65, 352: 65, 361: 66, 362: 66, 363: 66, 364: 66, 365: 66, 366: 66, 367: 66, 368: 66, 371: 67, 372: 67, 373: 67, 374: 67, 381: 68, 382: 68, 383: 68, 384: 68, 385: 68, 386: 68, 387: 68, 388: 68, 391: 69, 392: 69, 393: 69, 394: 69, 401: 70, 402: 70, 403: 70, 411: 71, 412: 71, 413: 71, 421: 72, 422: 72, 423: 72, 424: 72, 431: 81, 432: 81, 433: 81, 441: 82, 442: 82, 443: 82, 444: 82, 451: 83, 452: 83, 453: 83, 454: 83, 461: 84, 462: 84, 463: 84, 464: 84, 471: 85, 472: 85, 473: 85, 481: 86, 482: 86, 483: 86, 484: 86, 491: 101, 492: 101, 493: 101, 494: 101, 501: 102, 502: 102, 503: 102, 511: 103, 512: 103, 513: 103, 521: 104, 522: 104, 523: 104, 531: 105, 532: 105, 533: 105, 534: 105, 535: 105, 541: 106, 542: 106, 543: 106, 551: 107, 552: 107, 561: 108, 562: 108, 563: 108, 564: 108, 571: 109, 572: 109, 573: 109, 581: 110, 582: 110, 583: 110, 591: 111, 592: 111, 601: 112, 602: 112, 603: 112, 604: 112, 611: 113, 612: 113, 613: 113, 614: 113, 621: 121, 622: 121, 623: 121, 631: 122, 632: 122, 633: 122, 641: 123, 642: 123, 643: 123, 651: 124, 652: 124, 653: 124, 654: 124, 655: 124, 656: 124, 661: 125, 662: 125, 663: 125, 664: 125, 671: 126, 672: 126, 673: 126, 674: 126, 681: 127, 682: 127, 683: 127, 684: 127, 691: 128, 692: 128, 693: 128, 694: 128, 695: 128, 701: 129, 702: 129, 703: 129, 711: 130, 712: 130, 713: 130, 714: 130, 715: 130, 716: 130, 717: 130, 718: 130, 721: 131, 722: 131, 723: 131, 724: 131, 725: 131, 731: 132, 732: \n",
    "132, 733: 132, 734: 132, 741: 133, 742: 133, 743: 133, 751: 134, 752: 134, 753: 134, 761: 135, 762: 135, 763: 135, 771: 136, 772: 136, 773: 136, 774: 136, 775: 136, 781: 141, 782: 141, 783: 141, 791: 142, 792: 142, 793: 142, 794: 142, 795: 142, 796: 142, 801: 143, 802: 143, 803: 143, 811: 144, 812: 144, 813: 144, 821: 145, 822: 145, 823: 145, 831: 146, 832: 146, 833: 146, 834: 146, 835: 146, 841: 147, 842: 147, 843: 147, 851: 148, 852: 148, 853: 148, 854: 148, 855: 148, 856: 148, 861: 161, 862: 161, 863: 161, 871: 162, 872: 162, 873: 162, 874: 162, 881: 163, 882: 163, 883: 163, 891: 164, 892: 164, 893: 164, 894: 164, 895: 164, 901: 165, 902: 165, 903: 165, 904: 165, 905: 165, 911: 166, 912: 166, 913: 166, 914: 166, 921: 167, 922: 167, 923: 167, 924: 167, 931: 168, 932: 168, 933: 168, 934: 168, 941: 169, 942: 169, 943: 169, 951: 170, 952: 170, 953: 170, 961: 171, 962: 171, 963: 171, 964: 171, 965: 171, 966: 171, 971: 181, 972: 181, 973: 181, 974: 181, 981: 182, 982: 182, 983: 182, 991: 183, 992: 183, 993: 183, 994: 183, 1001: 184, 1002: 184, 1003: 184, 1011: 185, 1012: 185, 1013: 185, 1021: 186, 1022: 186, 1023: 186, 1024: 186, 1031: 187, 1032: 187, 1033: 187, 1034: 187, 1041: 188, 1042: 188, 1043: 188, 1051: 189, 1052: 189, 1053: 189, 1061: 190, 1071: 201, 1072: 201, 1073: 201, 1074: 201, 1075: 201, 1076: 201, 1077: 201, 1078: 201, 1079: 201, 1081: 202, 1082: 202, 1083: 202, \n",
    "1084: 202, 1091: 203, 1092: 203, 1093: 203, 1094: 203, 1101: 204, 1102: 204}\n",
    "\n",
    "med_to_sub = {1: [1, 2, 3, 4], 2: [11, 12, 13, 14], 3: [21], 21: [31, 32, 33, 34, 35], 22: [41, 42, 43, 44, 45], 23: [51, 52], 24: [61, 62, 63], 25: [71, 72, 73], 26: [81, 82, 83], 27: [91, 92, 93], 28: [101, 102, 103, 104, 105], 29: [111, 112, 113, 114, 115, 116], 30: [121, 122, 123], 31: [131, 132, 133], 32: [141, 142], 33: [151, 152, 153], 34: [161, 162, 163, 164, 165], 35: [171], 41: [181, 182, 183], 42: [191, 192, 193, 194], 43: [201, 202, 203, 204, 205], 44: [211, 212, 213, 214, 215], 45: [221, 222, 223, 224], 46: [231, 232, 233, 234, 235, 236], 47: [241, 242, 243, 244], 48: [251, 252, 253, 254, 255], 49: [261, 262, 263, 264], 50: [271, 272, 273, 274], 51: [281, 282, 283], 52: [291, 292, 293], 53: [301], 61: [311, 312, 313, 314, 315, 316], 62: [321, 322, 323], 63: [331, 332, 333, 334, 335, 336], 64: [341, 342], 65: [351, 352], 66: [361, 362, 363, 364, 365, 366, 367, 368], 67: [371, 372, 373, 374], 68: [381, 382, 383, 384, 385, 386, 387, 388], 69: [391, 392, 393, 394], 70: [401, 402, 403], 71: [411, 412, 413], 72: [421, 422, 423, 424], 81: [431, 432, 433], 82: [441, 442, 443, 444], 83: [451, 452, 453, 454], 84: [461, 462, 463, 464], 85: [471, 472, 473], 86: [481, 482, 483, 484], 101: [491, 492, 493, 494], 102: [501, 502, 503], 103: [511, 512, 513], 104: [521, 522, 523], 105: [531, 532, 533, 534, 535], 106: [541, 542, 543], 107: [551, 552], 108: [561, 562, 563, 564], 109: [571, 572, 573], 110: [581, 582, 583], 111: [591, 592], 112: [601, 602, 603, 604], 113: [611, 612, 613, 614], 121: [621, 622, 623], 122: [631, 632, 633], 123: [641, 642, 643], 124: [651, 652, 653, 654, 655, 656], 125: [661, 662, 663, 664], 126: \n",
    "[671, 672, 673, 674], 127: [681, 682, 683, 684], 128: [691, 692, 693, 694, 695], 129: [701, 702, 703], 130: [711, 712, 713, 714, 715, 716, 717, 718], 131: [721, 722, 723, 724, 725], 132: [731, 732, 733, 734], 133: [741, 742, 743], 134: [751, 752, 753], 135: [761, 762, 763], 136: [771, 772, 773, 774, 775], 141: [781, 782, 783], 142: [791, 792, 793, 794, 795, 796], 143: [801, 802, 803], 144: [811, 812, 813], 145: [821, 822, 823], 146: [831, 832, 833, 834, 835], 147: [841, 842, 843], 148: [851, 852, 853, 854, 855, 856], 161: [861, 862, 863], 162: [871, 872, 873, 874], 163: [881, 882, 883], 164: [891, 892, 893, 894, 895], 165: [901, 902, 903, 904, 905], 166: [911, 912, 913, 914], 167: [921, 922, 923, 924], 168: [931, 932, 933, 934], 169: [941, 942, 943], 170: [951, 952, 953], 171: [961, 962, 963, 964, 965, 966], 181: [971, 972, 973, 974], 182: [981, 982, 983], 183: [991, 992, 993, 994], 184: [1001, 1002, 1003], 185: [1011, 1012, 1013], 186: [1021, 1022, 1023, 1024], 187: [1031, 1032, 1033, 1034], 188: [1041, 1042, 1043], 189: [1051, 1052, 1053], 190: [1061], 201: [1071, 1072, 1073, 1074, 1075, 1076, 1077, 1078, 1079], 202: [1081, 1082, 1083, 1084], 203: [1091, 1092, 1093, 1094], 204: [1101, 1102]}"
   ]
  },
  {
   "cell_type": "code",
   "execution_count": 2,
   "metadata": {},
   "outputs": [],
   "source": [
    "from sklearn.model_selection import train_test_split\n",
    "x = df_counts.copy()\n",
    "y = df_counts['user']\n",
    "x_train, x_test, y_train, y_test = train_test_split(x, y, test_size=0.25, stratify=y)"
   ]
  },
  {
   "cell_type": "code",
   "execution_count": 3,
   "metadata": {},
   "outputs": [],
   "source": [
    "def simple_all_model(user_id, category):\n",
    "    cur_user = df_users[df_users['user'] == user_id]\n",
    "    try:\n",
    "        pred_viewing = train_mean.loc[cur_user['gender'].values[0]].loc[cur_user['age'].values[0]].loc[category]['mean']\n",
    "    except:\n",
    "        pred_viewing = train_mean_all[category]\n",
    "    return pred_viewing\n",
    "\n",
    "merged_train = pd.merge(x_train, df_users, on='user')\n",
    "user_count = len(merged_train['user'].unique())\n",
    "train_mean_all = merged_train.groupby(['category'])['count'].sum().apply(lambda x: x/user_count)\n",
    "\n",
    "train_mean = (merged_train.groupby(['gender', 'age', 'category'])['count']\n",
    "              .agg(['sum', 'size']))\n",
    "train_mean['mean'] = train_mean['sum'] / train_mean['size']"
   ]
  },
  {
   "cell_type": "code",
   "execution_count": 4,
   "metadata": {},
   "outputs": [],
   "source": [
    "view_matrix = x_train.pivot(index='user', columns='category', values='count')\n",
    "\n",
    "for user_id in view_matrix.index:\n",
    "    user_view_category = view_matrix.loc[user_id].copy().dropna().reset_index()\n",
    "    user_view_category = user_view_category[user_view_category[user_id] != 0]\n",
    "    user_view_category['med'] = user_view_category['category'].apply(lambda cat: sub_to_med[cat])\n",
    "    med_count = user_view_category.groupby(['med'])[user_id].sum().sort_values(ascending=False)\n",
    "    \n",
    "    user_category = view_matrix.loc[user_id].copy()\n",
    "    source_category = view_matrix.loc[user_id].copy()\n",
    "    \n",
    "    for med in med_count.index:\n",
    "        for sub in med_to_sub[med]:\n",
    "            sim_scores = item_similarity[sub]\n",
    "            user_viewing = source_category.T\n",
    "            non_viewing_idx = user_viewing[user_viewing.isnull()].index\n",
    "            user_viewing = user_viewing.dropna()\n",
    "            sim_scores = sim_scores.drop(non_viewing_idx)\n",
    "            user_category.loc[sub] = np.dot(sim_scores, user_viewing) / sim_scores.sum()\n",
    "\n",
    "    view_matrix.loc[user_id] = user_category\n",
    "    \n",
    "IBCF_pred_matrix = view_matrix.fillna(0)"
   ]
  },
  {
   "cell_type": "code",
   "execution_count": 5,
   "metadata": {},
   "outputs": [],
   "source": [
    "from scipy.sparse.linalg import svds\n",
    "\n",
    "mf_view_matrix = x_train.pivot(index='user', columns='category', values='count').fillna(0)\n",
    "\n",
    "matrix_values = mf_view_matrix.values\n",
    "user_view_mean = np.mean(matrix_values, axis=1)\n",
    "matrix_user_mean = matrix_values - user_view_mean.reshape(-1, 1)\n",
    "\n",
    "users, sigma, vt = svds(matrix_user_mean, k = 80)\n",
    "sigma = np.diag(sigma)\n",
    "\n",
    "svd_user_prediction = np.dot(np.dot(users, sigma), vt) + user_view_mean.reshape(-1, 1)\n",
    "\n",
    "MF_pred_matrix = pd.DataFrame(svd_user_prediction, index=mf_view_matrix.index, columns=mf_view_matrix.columns)"
   ]
  },
  {
   "cell_type": "code",
   "execution_count": 6,
   "metadata": {},
   "outputs": [],
   "source": [
    "def RMSE(view_true, view_pred):\n",
    "    return np.sqrt(np.mean((np.array(view_true)- np.array(view_pred)) ** 2))"
   ]
  },
  {
   "cell_type": "code",
   "execution_count": 7,
   "metadata": {},
   "outputs": [],
   "source": [
    "def score_simple():\n",
    "    user_category_pairs = zip(x_test['user'], x_test['category'])\n",
    "    view_pred = np.array([simple_all_model(user, category) for (user, category) in user_category_pairs])\n",
    "    view_true = np.array(x_test['count'])\n",
    "    return RMSE(view_true, view_pred)"
   ]
  },
  {
   "cell_type": "code",
   "execution_count": 8,
   "metadata": {},
   "outputs": [],
   "source": [
    "def score_ibcf():\n",
    "    user_category_pairs = zip(x_test['user'], x_test['category'])\n",
    "    view_pred = np.array([IBCF_pred_matrix.loc[user].loc[category] for (user, category) in user_category_pairs])\n",
    "    view_true = np.array(x_test['count'])\n",
    "    return RMSE(view_true, view_pred)"
   ]
  },
  {
   "cell_type": "code",
   "execution_count": 9,
   "metadata": {},
   "outputs": [],
   "source": [
    "def score_mf():\n",
    "    user_category_pairs = zip(x_test['user'], x_test['category'])\n",
    "    view_pred = np.array([MF_pred_matrix.loc[user].loc[category] for (user, category) in user_category_pairs])\n",
    "    view_true = np.array(x_test['count'])\n",
    "    return RMSE(view_true, view_pred)"
   ]
  },
  {
   "cell_type": "code",
   "execution_count": 10,
   "metadata": {},
   "outputs": [],
   "source": [
    "def score_hybrid(weight):\n",
    "    user_category_pairs = zip(x_test['user'], x_test['category'])\n",
    "    view_pred = np.array([IBCF_pred_matrix.loc[user].loc[category]*weight + MF_pred_matrix.loc[user].loc[category]*(1-weight) for (user, category) in user_category_pairs])\n",
    "    view_true = np.array(x_test['count'])\n",
    "    return RMSE(view_true, view_pred)"
   ]
  },
  {
   "cell_type": "code",
   "execution_count": 11,
   "metadata": {},
   "outputs": [
    {
     "name": "stdout",
     "output_type": "stream",
     "text": [
      "1.1281003554840532\n"
     ]
    }
   ],
   "source": [
    "print(score_simple())"
   ]
  },
  {
   "cell_type": "code",
   "execution_count": 12,
   "metadata": {},
   "outputs": [
    {
     "name": "stdout",
     "output_type": "stream",
     "text": [
      "IBCF weight: 0.0\n",
      "1.5274601159944001\n",
      "--------------------------------------------------\n",
      "IBCF weight: 0.1\n",
      "1.4690887158399222\n",
      "--------------------------------------------------\n",
      "IBCF weight: 0.2\n",
      "1.4159518869479453\n",
      "--------------------------------------------------\n",
      "IBCF weight: 0.3\n",
      "1.3686594460943857\n",
      "--------------------------------------------------\n",
      "IBCF weight: 0.4\n",
      "1.327836004446341\n",
      "--------------------------------------------------\n",
      "IBCF weight: 0.5\n",
      "1.2940939193556802\n",
      "--------------------------------------------------\n",
      "IBCF weight: 0.6\n",
      "1.2679986323381256\n",
      "--------------------------------------------------\n",
      "IBCF weight: 0.7\n",
      "1.2500291329397315\n",
      "--------------------------------------------------\n",
      "IBCF weight: 0.8\n",
      "1.2405385833876537\n",
      "--------------------------------------------------\n",
      "IBCF weight: 0.9\n",
      "1.2397217279040988\n",
      "--------------------------------------------------\n",
      "IBCF weight: 1.0\n",
      "1.2475956037475815\n",
      "--------------------------------------------------\n"
     ]
    }
   ],
   "source": [
    "for weight in range(11):\n",
    "    print('IBCF weight: {}'.format(weight/10))\n",
    "    print(score_hybrid(weight/10))\n",
    "    print('-' * 50)"
   ]
  },
  {
   "cell_type": "code",
   "execution_count": 13,
   "metadata": {
    "scrolled": true
   },
   "outputs": [
    {
     "name": "stdout",
     "output_type": "stream",
     "text": [
      "IBCF weight: 0.7\n",
      "1.2500291329397315\n",
      "--------------------------------------------------\n",
      "IBCF weight: 0.71\n",
      "1.2486939815950122\n",
      "--------------------------------------------------\n",
      "IBCF weight: 0.72\n",
      "1.2474440246223635\n",
      "--------------------------------------------------\n",
      "IBCF weight: 0.73\n",
      "1.2462795183590885\n",
      "--------------------------------------------------\n",
      "IBCF weight: 0.74\n",
      "1.245200702544602\n",
      "--------------------------------------------------\n",
      "IBCF weight: 0.75\n",
      "1.244207800077891\n",
      "--------------------------------------------------\n",
      "IBCF weight: 0.76\n",
      "1.2433010167906433\n",
      "--------------------------------------------------\n",
      "IBCF weight: 0.77\n",
      "1.2424805412365687\n",
      "--------------------------------------------------\n",
      "IBCF weight: 0.78\n",
      "1.241746544497416\n",
      "--------------------------------------------------\n",
      "IBCF weight: 0.79\n",
      "1.2410991800061413\n",
      "--------------------------------------------------\n",
      "IBCF weight: 0.8\n",
      "1.2405385833876537\n",
      "--------------------------------------------------\n",
      "IBCF weight: 0.81\n",
      "1.2400648723175183\n",
      "--------------------------------------------------\n",
      "IBCF weight: 0.82\n",
      "1.2396781463989621\n",
      "--------------------------------------------------\n",
      "IBCF weight: 0.83\n",
      "1.239378487058476\n",
      "--------------------------------------------------\n",
      "IBCF weight: 0.84\n",
      "1.239165957460273\n",
      "--------------------------------------------------\n",
      "IBCF weight: 0.85\n",
      "1.2390406024398068\n",
      "--------------------------------------------------\n",
      "IBCF weight: 0.86\n",
      "1.2390024484565196\n",
      "--------------------------------------------------\n",
      "IBCF weight: 0.87\n",
      "1.2390515035659286\n",
      "--------------------------------------------------\n",
      "IBCF weight: 0.88\n",
      "1.2391877574111252\n",
      "--------------------------------------------------\n",
      "IBCF weight: 0.89\n",
      "1.239411181233704\n",
      "--------------------------------------------------\n"
     ]
    }
   ],
   "source": [
    "for weight in range(70, 90):\n",
    "    print('IBCF weight: {}'.format(weight/100))\n",
    "    print(score_hybrid(weight/100))\n",
    "    print('-' * 50)"
   ]
  }
 ],
 "metadata": {
  "kernelspec": {
   "display_name": "Python 3",
   "language": "python",
   "name": "python3"
  },
  "language_info": {
   "codemirror_mode": {
    "name": "ipython",
    "version": 3
   },
   "file_extension": ".py",
   "mimetype": "text/x-python",
   "name": "python",
   "nbconvert_exporter": "python",
   "pygments_lexer": "ipython3",
   "version": "3.5.3"
  }
 },
 "nbformat": 4,
 "nbformat_minor": 4
}
