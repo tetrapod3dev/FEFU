{
 "cells": [
  {
   "cell_type": "code",
   "execution_count": 1,
   "metadata": {},
   "outputs": [],
   "source": [
    "import pandas as pd\n",
    "import numpy as np\n",
    "import pickle\n",
    "\n",
    "dataframes = pd.read_pickle('recom_data/user_category_dummy3.pkl')\n",
    "\n",
    "df_counts = dataframes['view_counts']\n",
    "df_users = dataframes['users']\n",
    "\n",
    "with open('recom_data/category_dict.pkl', 'rb') as handle:\n",
    "    category_dict = pickle.load(handle)\n",
    "\n",
    "item_similarity = pd.read_pickle('recom_data/item_similarity.pkl')"
   ]
  },
  {
   "cell_type": "code",
   "execution_count": 2,
   "metadata": {},
   "outputs": [],
   "source": [
    "# IBCF에서 사용할 유저 dummy데이터입니다.\n",
    "db_user_data = [[1, 'F', 26]]\n",
    "df_db_user_data = pd.DataFrame(db_user_data, columns=['user', 'gender', 'age'])\n",
    "new_df_users = df_users.append(df_db_user_data)\n",
    "\n",
    "# 이 유저는 1, 2, 3, 4, 31, 32, 33번 카테고리의 제품을 봤네요..\n",
    "db_view_data = [[1, 1, 4], [1, 2, 2], [1, 3, 2], [1, 4, 1], [1, 31, 1], [1, 32, 1], [1, 33, 3]]\n",
    "df_db_view_data = pd.DataFrame(db_view_data, columns=['user', 'category', 'count'])\n",
    "new_df_counts = df_counts.append(df_db_view_data)\n",
    "\n",
    "view_matrix = new_df_counts.pivot(index='user', columns='category', values='count')"
   ]
  },
  {
   "cell_type": "code",
   "execution_count": 3,
   "metadata": {},
   "outputs": [],
   "source": [
    "from sklearn.model_selection import train_test_split\n",
    "x = new_df_counts.copy()\n",
    "y = new_df_counts['user']\n",
    "x_train, x_test, y_train, y_test = train_test_split(x, y, test_size=0.25, stratify=y)"
   ]
  },
  {
   "cell_type": "code",
   "execution_count": 4,
   "metadata": {},
   "outputs": [
    {
     "name": "stdout",
     "output_type": "stream",
     "text": [
      "  category         1\n",
      "0    여성 상의  2.349575\n",
      "1   여성 운동화  2.134135\n",
      "2   여성 실내화  1.906181\n",
      "3    공용 시계  1.876158\n",
      "4    여성 하의  1.874882\n",
      "5   여성용 가방  1.874085\n",
      "6     스마트폰  1.872292\n",
      "7  휴대폰 배터리  1.871499\n",
      "8      피쳐폰  1.869691\n",
      "9      임부복  1.869640\n"
     ]
    }
   ],
   "source": [
    "def recom_category(user_id, n_items=20):\n",
    "    for category in view_matrix:\n",
    "        # 모든 카테고리에 대해서 예측값을 만들어줍니다.\n",
    "        user_category.loc[category] = IBCF_model(user_id, category)\n",
    "    category_sort = user_category.sort_values(ascending=False)[:n_items]\n",
    "    # 예측값을 sorting하고.... n_items만큼만 뽑아줍니다.\n",
    "    return category_sort\n",
    "\n",
    "def IBCF_model(user, category):\n",
    "    \"\"\"\n",
    "        예측값을 만들어주는 Model입니당\n",
    "        특정 유저 id와 특정 카테고리 no를 토대로 예측값을 만들어줍니다.\n",
    "        item_similarity: 미리 만들어둔 코사인 유사도로 계산한 category의 유사도입니다.\n",
    "        user_category: 해당 user의 카테고리별 조회수입니다.\n",
    "    \"\"\"\n",
    "    sim_scores = item_similarity[category]\n",
    "    # 해당 카테고리와 다른 카테고리의 유사도들입니다.\n",
    "    user_viewing = user_category.T\n",
    "    # 해당 user의 카테고리별 조회수입니다. (계산을 위해 전치행렬로 만듭니다.)\n",
    "    non_viewing_idx = user_viewing[user_viewing.isnull()].index\n",
    "    # user가 조회하지 않은 카테고리의 index를 찾습니다.\n",
    "    user_viewing = user_viewing.dropna()\n",
    "    sim_scores = sim_scores.drop(non_viewing_idx)\n",
    "    # user_viewing과 sim_scores에서 비어있는거 제거합니다. (계산속도 향상용)\n",
    "    pred_viewing = np.dot(sim_scores, user_viewing) / sim_scores.sum()\n",
    "    # 예측값은 유저의 조회 기록을 해당 카테고리와의 유사도로 가중평균한 값입니다.\n",
    "    return pred_viewing\n",
    "\n",
    "test_user = {\n",
    "    'user_id': 1,\n",
    "    'gender': 'F',\n",
    "    'age': 26\n",
    "}\n",
    "\n",
    "user_category = view_matrix.loc[test_user['user_id']].copy()\n",
    "# test_user의 카테고리별 조회수입니다.\n",
    "pred_user_category = recom_category(user_id=test_user['user_id'], n_items=10)\n",
    "# 추천 카테고리를 가져옵니다. (위 함수 참조)\n",
    "recommend_category = pd.DataFrame(pred_user_category).reset_index()\n",
    "recommend_category['category'] = recommend_category['category'].map(lambda x: category_dict[x])\n",
    "# 카테고리 no를 카테고리명으로 바꿉니다.\n",
    "print(recommend_category)"
   ]
  },
  {
   "cell_type": "code",
   "execution_count": 5,
   "metadata": {},
   "outputs": [
    {
     "name": "stdout",
     "output_type": "stream",
     "text": [
      "   category          1\n",
      "0    유아동 도서  66.335469\n",
      "1     필기 용품  24.386104\n",
      "2     문구 용품  11.945681\n",
      "3    소설/만화책   9.195280\n",
      "4  기타 수납 가구   8.676177\n",
      "5      전공서적   8.374187\n",
      "6      BB크림   7.926797\n",
      "7    바디 클렌저   7.479300\n",
      "8     아동 책장   6.354860\n",
      "9     기타 침구   6.016919\n"
     ]
    }
   ],
   "source": [
    "# 이건 피어슨 상관계수로 한번 해봤습니다..........\n",
    "item_similarity2 = pd.read_pickle('recom_data/item_similarity_pearson.pkl')\n",
    "\n",
    "def recom_category(user_id, n_items=20):\n",
    "    for category in view_matrix:\n",
    "        user_category.loc[category] = IBCF_model(user_id, category)\n",
    "    category_sort = user_category.sort_values(ascending=False)[:n_items]\n",
    "    return category_sort\n",
    "\n",
    "def IBCF_model(user, category):\n",
    "    sim_scores = item_similarity2[category]\n",
    "    user_viewing = user_category.T\n",
    "    non_viewing_idx = user_viewing[user_viewing.isnull()].index\n",
    "    user_viewing = user_viewing.dropna()\n",
    "    sim_scores = sim_scores.drop(non_viewing_idx)\n",
    "    pred_viewing = np.dot(sim_scores, user_viewing) / sim_scores.sum()\n",
    "    return pred_viewing\n",
    "\n",
    "user_category = view_matrix.loc[test_user['user_id']].copy()\n",
    "\n",
    "pred_user_category = recom_category(user_id=test_user['user_id'], n_items=10)\n",
    "recommend_category = pd.DataFrame(pred_user_category).reset_index()\n",
    "recommend_category['category'] = recommend_category['category'].map(lambda x: category_dict[x])\n",
    "print(recommend_category)"
   ]
  },
  {
   "cell_type": "code",
   "execution_count": 6,
   "metadata": {},
   "outputs": [],
   "source": [
    "#####################################\n",
    "# 이하는 Model 정확도 측정입니다.   #\n",
    "#####################################"
   ]
  },
  {
   "cell_type": "code",
   "execution_count": 7,
   "metadata": {},
   "outputs": [],
   "source": [
    "# RMSE 계산해주는 함수\n",
    "def RMSE(y_true, y_pred):\n",
    "    return np.sqrt(np.mean((np.array(y_true)- np.array(y_pred)) ** 2))\n",
    "\n",
    "# 모델별 RMSE 계산\n",
    "def score(model):\n",
    "    id_pairs = zip(x_test['user'], x_test['category'])\n",
    "    y_pred = np.array([model(user, category) for (user, category) in id_pairs])\n",
    "    y_true = np.array(x_test['count'])\n",
    "    return RMSE(y_true, y_pred)\n",
    "\n",
    "train_view_matrix = x_train.pivot(index='user', columns='category', values='count')\n",
    "view_matrix_t = np.transpose(train_view_matrix)"
   ]
  },
  {
   "cell_type": "code",
   "execution_count": 8,
   "metadata": {},
   "outputs": [
    {
     "name": "stdout",
     "output_type": "stream",
     "text": [
      "1.1351443883548373\n"
     ]
    }
   ],
   "source": [
    "def IBCF_model(user, category):\n",
    "    if category in item_similarity:\n",
    "        sim_scores = item_similarity[category]\n",
    "        user_viewing = view_matrix_t[user]\n",
    "        non_viewing_idx = user_viewing[user_viewing.isnull()].index\n",
    "        user_viewing = user_viewing.dropna()\n",
    "        sim_scores = sim_scores.drop(non_viewing_idx)\n",
    "        pred_viewing = np.dot(sim_scores, user_viewing) / sim_scores.sum()\n",
    "    else:\n",
    "        pred_viewing = 0\n",
    "    return pred_viewing\n",
    "\n",
    "# 아마..없는 값을 평균으로 안 쓰고 0으로 넣어서 오차가 큰가봐요\n",
    "print(score(IBCF_model))"
   ]
  },
  {
   "cell_type": "code",
   "execution_count": 9,
   "metadata": {},
   "outputs": [
    {
     "data": {
      "text/plain": [
       "'\\n    기존 그룹화 추천의 경우 데이터가 없는 경우는 Error가 낮게 나올 수밖에 없음\\n    모델과 에러가 큰 차이가 안 날 경우 전환하는 걸로 얘기해야 될 듯....\\n    그러니까요.. 음....\\n    데이터를 지금 몇개 넣어놨는데... IBCF로 예측값을 만들고...\\n    그 데이터랑 비교해서 Error가 어느정도 이하면 타협하고 넘어가는 걸로 합시다!\\n    기본 추천 시스템 vs IBCF 비교는 어렵네요.\\n    \\n    아 아닌가;;\\n    나중에 할게요!! 지금 중요한거아닙니당\\n'"
      ]
     },
     "execution_count": 9,
     "metadata": {},
     "output_type": "execute_result"
    }
   ],
   "source": [
    "##################################\n",
    "# 언제 전환할 것인가? 선택하기   #\n",
    "##################################\n",
    "\"\"\"\n",
    "    기존 그룹화 추천의 경우 데이터가 없는 경우는 Error가 낮게 나올 수밖에 없음\n",
    "    모델과 에러가 큰 차이가 안 날 경우 전환하는 걸로 얘기해야 될 듯....\n",
    "    그러니까요.. 음....\n",
    "    데이터를 지금 몇개 넣어놨는데... IBCF로 예측값을 만들고...\n",
    "    그 데이터랑 비교해서 Error가 어느정도 이하면 타협하고 넘어가는 걸로 합시다!\n",
    "    기본 추천 시스템 vs IBCF 비교는 어렵네요.\n",
    "    \n",
    "    아 아닌가;;\n",
    "    나중에 할게요!! 지금 중요한거아닙니당\n",
    "\"\"\""
   ]
  },
  {
   "cell_type": "code",
   "execution_count": 10,
   "metadata": {},
   "outputs": [
    {
     "name": "stdout",
     "output_type": "stream",
     "text": [
      "   user  category  count  pred_ibcf\n",
      "0     1         1      4   2.349575\n",
      "1     1         2      2   2.116761\n",
      "2     1         3      2   1.933432\n",
      "3     1         4      1   1.749313\n",
      "4     1        31      1   1.890808\n",
      "5     1        32      1   1.994277\n",
      "6     1        33      3   2.214792\n"
     ]
    },
    {
     "name": "stderr",
     "output_type": "stream",
     "text": [
      "C:\\Users\\lee33\\AppData\\Local\\Programs\\Python\\Python35\\lib\\site-packages\\ipykernel_launcher.py:19: SettingWithCopyWarning: \n",
      "A value is trying to be set on a copy of a slice from a DataFrame.\n",
      "Try using .loc[row_indexer,col_indexer] = value instead\n",
      "\n",
      "See the caveats in the documentation: http://pandas.pydata.org/pandas-docs/stable/user_guide/indexing.html#returning-a-view-versus-a-copy\n"
     ]
    }
   ],
   "source": [
    "def IBCF_model(user, category):\n",
    "    sim_scores = item_similarity[category]\n",
    "    user_viewing = user_category.T\n",
    "    non_viewing_idx = user_viewing[user_viewing.isnull()].index\n",
    "    user_viewing = user_viewing.dropna()\n",
    "    sim_scores = sim_scores.drop(non_viewing_idx)\n",
    "    pred_viewing = np.dot(sim_scores, user_viewing) / sim_scores.sum()\n",
    "    return pred_viewing\n",
    "\n",
    "test_user = {\n",
    "    'user_id': 1,\n",
    "    'gender': 'F',\n",
    "    'age': 26\n",
    "}\n",
    "\n",
    "user_category = view_matrix.loc[test_user['user_id']].copy()\n",
    "\n",
    "pred_data_df = new_df_counts[new_df_counts['user'] == test_user['user_id']]\n",
    "pred_data_df['pred_ibcf'] = pred_data_df['category'].apply(lambda category: IBCF_model(test_user['user_id'], category))\n",
    "\n",
    "print(pred_data_df)"
   ]
  },
  {
   "cell_type": "code",
   "execution_count": 11,
   "metadata": {},
   "outputs": [
    {
     "name": "stdout",
     "output_type": "stream",
     "text": [
      "        user  category  count gender  age\n",
      "0      90001        11      0      M   10\n",
      "1      90001        12      0      M   10\n",
      "2      90001        42      0      M   10\n",
      "3      90001        43      0      M   10\n",
      "4      90001        72      1      M   10\n",
      "...      ...       ...    ...    ...  ...\n",
      "63132      1         3      2      F   26\n",
      "63133      1         4      1      F   26\n",
      "63134      1        31      1      F   26\n",
      "63135      1        32      1      F   26\n",
      "63136      1        33      3      F   26\n",
      "\n",
      "[63137 rows x 5 columns]\n",
      "                     sum  size   mean\n",
      "gender age category                  \n",
      "C      100 1          10    10  1.000\n",
      "           2          10    10  1.000\n",
      "           3          10    10  1.000\n",
      "           4          10    10  1.000\n",
      "           11         10    10  1.000\n",
      "...                  ...   ...    ...\n",
      "M      70  1077       61    40  1.525\n",
      "           1091       33    20  1.650\n",
      "           1092       39    20  1.950\n",
      "           1093       39    20  1.950\n",
      "           1094       32    20  1.600\n",
      "\n",
      "[2571 rows x 3 columns]\n",
      "   user  category  count  pred_ibcf\n",
      "0     1         1      4   2.349575\n",
      "1     1         2      2   2.116761\n",
      "2     1         3      2   1.933432\n",
      "3     1         4      1   1.749313\n",
      "4     1        31      1   1.890808\n",
      "5     1        32      1   1.994277\n",
      "6     1        33      3   2.214792\n"
     ]
    }
   ],
   "source": [
    "merged_df = pd.merge(new_df_counts, new_df_users, left_on='user', right_on='user')\n",
    "print(merged_df)\n",
    "test2222222 = (merged_df.groupby(['gender', 'age', 'category'])['count']\n",
    "               .agg(['sum', 'size']))\n",
    "test2222222['mean'] = test2222222['sum'] / test2222222['size']\n",
    "print(test2222222)\n",
    "\"\"\"\n",
    "    현재 작성 중입니다... 기본 모델로 예측값 만들거에용...\n",
    "\"\"\"\n",
    "# pred_data_df['pred_basic'] = pred_data_df['category'].apply(lambda category: test2222222.loc['F'].loc[20].loc[category]['mean'])\n",
    "\n",
    "print(pred_data_df)"
   ]
  }
 ],
 "metadata": {
  "kernelspec": {
   "display_name": "Python 3",
   "language": "python",
   "name": "python3"
  },
  "language_info": {
   "codemirror_mode": {
    "name": "ipython",
    "version": 3
   },
   "file_extension": ".py",
   "mimetype": "text/x-python",
   "name": "python",
   "nbconvert_exporter": "python",
   "pygments_lexer": "ipython3",
   "version": "3.5.3"
  }
 },
 "nbformat": 4,
 "nbformat_minor": 4
}
