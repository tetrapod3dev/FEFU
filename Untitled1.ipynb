{
 "cells": [
  {
   "cell_type": "code",
   "execution_count": 62,
   "metadata": {},
   "outputs": [
    {
     "name": "stdout",
     "output_type": "stream",
     "text": [
      "       category  score\n",
      "user                  \n",
      "68632    호주레스토랑      5\n",
      "389728     샌드위치      5\n",
      "389728       쥬스      5\n",
      "68716     전주비빔밥      4\n",
      "774353     굴비정식      2\n",
      "...         ...    ...\n",
      "190766      소고기      5\n",
      "201564     고기뷔페      4\n",
      "201564      소고기      4\n",
      "611078     고기뷔페      5\n",
      "611078      고기집      5\n",
      "\n",
      "[172565 rows x 2 columns]\n"
     ]
    }
   ],
   "source": [
    "import pandas as pd\n",
    "\n",
    "dataframes = pd.read_pickle('data/review.pkl')\n",
    "\n",
    "category_score = pd.merge(\n",
    "    dataframes[\"stores\"], dataframes[\"reviews\"], left_on=\"id\", right_on=\"store\"\n",
    ")[[\"category\", \"user\", \"score\"]]\n",
    "\n",
    "category_score[\"category\"] = category_score[\"category\"].apply(lambda c: c.split(\"|\"))\n",
    "\n",
    "category_explode = category_score.explode(\"category\").set_index('user')\n",
    "print(category_explode)"
   ]
  },
  {
   "cell_type": "code",
   "execution_count": 63,
   "metadata": {},
   "outputs": [
    {
     "name": "stdout",
     "output_type": "stream",
     "text": [
      "category\n",
      "bar       4.090909\n",
      "cafe      3.806283\n",
      "la갈비      3.545455\n",
      "lp바       4.400000\n",
      "pasta     3.886364\n",
      "            ...   \n",
      "흑염소       3.526316\n",
      "흑우        3.500000\n",
      "흑임자팥빙수    3.214286\n",
      "히레까스      4.040000\n",
      "히츠마부시     4.272727\n",
      "Name: mean, Length: 2385, dtype: float64\n"
     ]
    }
   ],
   "source": [
    "category_scores = (category_explode.groupby([\"category\"])[\"score\"]\n",
    "                  .agg([\"mean\", \"size\"])\n",
    "                  .reset_index()\n",
    "                  .drop([0]))\n",
    "\n",
    "category_scores_mean = category_scores[category_scores[\"size\"] >= 5].set_index([\"category\"])[\"mean\"]\n",
    "print(category_scores_mean)"
   ]
  },
  {
   "cell_type": "code",
   "execution_count": 64,
   "metadata": {},
   "outputs": [
    {
     "name": "stdout",
     "output_type": "stream",
     "text": [
      "          user category  score\n",
      "0            7       국수    5.0\n",
      "1            7      삼겹살    4.0\n",
      "2            7    소고기국밥    4.0\n",
      "3            7    소고기국수    5.0\n",
      "4            7     쇠고기국    4.0\n",
      "...        ...      ...    ...\n",
      "142352  950224    치즈닭갈비    1.0\n",
      "142353  950224      해산물    5.0\n",
      "142354  950224      흑돼지    5.0\n",
      "142355  950331       김치    5.0\n",
      "142356  950331    김치돈까스    5.0\n",
      "\n",
      "[142357 rows x 3 columns]\n",
      "category  bar  cafe  la갈비  lp바  pasta  pizza  pub  가라아게  가리국밥  가리비  ...  \\\n",
      "user                                                                ...   \n",
      "7         NaN   NaN   NaN  NaN    NaN    NaN  NaN   NaN   NaN  NaN  ...   \n",
      "15        NaN   NaN   NaN  NaN    NaN    NaN  NaN   NaN   NaN  NaN  ...   \n",
      "23        NaN   NaN   NaN  NaN    NaN    NaN  NaN   NaN   NaN  NaN  ...   \n",
      "64        NaN   NaN   NaN  NaN    NaN    NaN  NaN   NaN   NaN  NaN  ...   \n",
      "74        NaN   NaN   NaN  NaN    NaN    NaN  NaN   NaN   NaN  NaN  ...   \n",
      "...       ...   ...   ...  ...    ...    ...  ...   ...   ...  ...  ...   \n",
      "949944    NaN   NaN   NaN  NaN    NaN    NaN  NaN   NaN   NaN  NaN  ...   \n",
      "949946    NaN   NaN   NaN  NaN    NaN    NaN  NaN   NaN   NaN  NaN  ...   \n",
      "949951    NaN   NaN   NaN  NaN    NaN    NaN  NaN   NaN   NaN  NaN  ...   \n",
      "950224    NaN   NaN   NaN  NaN    NaN    NaN  NaN   NaN   NaN  NaN  ...   \n",
      "950331    NaN   NaN   NaN  NaN    NaN    NaN  NaN   NaN   NaN  NaN  ...   \n",
      "\n",
      "category  흑돼지수제버거  흑돼지전문  흑돼지제육  흑된장밥  흑마늘  흑염소  흑우  흑임자팥빙수  히레까스  히츠마부시  \n",
      "user                                                                      \n",
      "7             NaN    NaN    NaN   NaN  NaN  NaN NaN     NaN   NaN    NaN  \n",
      "15            NaN    NaN    NaN   NaN  NaN  NaN NaN     NaN   NaN    NaN  \n",
      "23            NaN    NaN    NaN   NaN  NaN  NaN NaN     NaN   NaN    NaN  \n",
      "64            NaN    NaN    NaN   NaN  NaN  NaN NaN     NaN   NaN    NaN  \n",
      "74            NaN    NaN    NaN   NaN  NaN  NaN NaN     NaN   NaN    NaN  \n",
      "...           ...    ...    ...   ...  ...  ...  ..     ...   ...    ...  \n",
      "949944        NaN    NaN    NaN   NaN  NaN  NaN NaN     NaN   NaN    NaN  \n",
      "949946        NaN    NaN    NaN   NaN  NaN  NaN NaN     NaN   NaN    NaN  \n",
      "949951        NaN    NaN    NaN   NaN  NaN  NaN NaN     NaN   NaN    NaN  \n",
      "950224        NaN    NaN    NaN   NaN  NaN  NaN NaN     NaN   NaN    NaN  \n",
      "950331        NaN    NaN    NaN   NaN  NaN  NaN NaN     NaN   NaN    NaN  \n",
      "\n",
      "[18704 rows x 2385 columns]\n"
     ]
    }
   ],
   "source": [
    "category_user_score = category_explode[category_explode[\"category\"].isin(category_scores_mean.index)].reset_index()\n",
    "category_user_score = category_user_score.groupby([\"user\",\"category\"])[\"score\"].mean().reset_index()\n",
    "print(category_user_score)\n",
    "\n",
    "rating_matrix = pd.pivot(data=category_user_score, index=\"user\", columns=\"category\", values=\"score\")\n",
    "print(rating_matrix)"
   ]
  },
  {
   "cell_type": "code",
   "execution_count": 4,
   "metadata": {},
   "outputs": [],
   "source": [
    "import numpy as np\n",
    "\n",
    "#RMSE 계산해주는 함수\n",
    "def RMSE(y_true, y_pred):\n",
    "    return np.sqrt(np.mean((np.array(y_true)- np.array(y_pred)) ** 2))\n",
    "\n",
    "# 모델별 RMSE 계산\n",
    "def score(model):\n",
    "    id_pairs = zip(x_test['user'], x_test['category'])\n",
    "    y_pred = np.array([model(user, category) for (user, category) in id_pairs])\n",
    "    y_true = np.array(x_test['score'])\n",
    "    return RMSE(y_true, y_pred)"
   ]
  },
  {
   "cell_type": "code",
   "execution_count": 12,
   "metadata": {},
   "outputs": [
    {
     "name": "stdout",
     "output_type": "stream",
     "text": [
      "category\n",
      "해산물뷔페     5.000000\n",
      "철판제육볶음    5.000000\n",
      "국수        5.000000\n",
      "소고기국수     5.000000\n",
      "떡볶이돈까스    5.000000\n",
      "고려음식      4.863636\n",
      "칠면조       4.857143\n",
      "오리초밥      4.833333\n",
      "루프트탑      4.833333\n",
      "문화카페      4.833333\n",
      "Name: 7, dtype: float64\n"
     ]
    }
   ],
   "source": [
    "def recommend_category(user, n_items):\n",
    "    user_category = rating_matrix.loc[user]\n",
    "    for category in rating_matrix:\n",
    "        if pd.isnull(user_category.loc[category]):\n",
    "            user_category.loc[category] = best_seller(user, category)\n",
    "    category_sort = user_category.sort_values(ascending=False)[:n_items]\n",
    "    return category_sort\n",
    "\n",
    "# 전체 평균으로 예측치를 계산하는 기본 모델\n",
    "def best_seller(user, category):\n",
    "    try:\n",
    "        score = category_mean[category]\n",
    "    except:\n",
    "        score = category_explode['score'].mean()\n",
    "    return score\n",
    "\n",
    "category_mean = category_explode.groupby(['category'])['score'].mean()\n",
    "print(recommend_category(7, 10))"
   ]
  },
  {
   "cell_type": "code",
   "execution_count": 57,
   "metadata": {},
   "outputs": [
    {
     "name": "stdout",
     "output_type": "stream",
     "text": [
      "        size      mean\n",
      "gender                \n",
      "남         67  3.537313\n",
      "여        124  3.951613\n"
     ]
    }
   ],
   "source": [
    "users = dataframes['users'].rename(columns={'id': 'user'}).set_index('user')\n",
    "\n",
    "merged_scores = pd.merge(category_explode, users, left_index=True, right_index=True)\n",
    "\n",
    "gender_scores = (merged_scores.groupby(['category', 'gender'])['score']\n",
    "                 .agg([\"size\", \"mean\"])\n",
    "                 .reset_index()\n",
    "                 .drop([0, 1]))\n",
    "\n",
    "gender_scores = gender_scores[gender_scores['size'] >= 5]\n",
    "gender_scores = gender_scores.set_index(['category', 'gender'])\n",
    "category_mean = category_explode.groupby(['category'])['score'].mean()\n",
    "print(gender_scores.loc['cafe'])"
   ]
  },
  {
   "cell_type": "code",
   "execution_count": 69,
   "metadata": {},
   "outputs": [
    {
     "name": "stdout",
     "output_type": "stream",
     "text": [
      "category\n",
      "모밀       5.0\n",
      "나시고랭     5.0\n",
      "중식당      5.0\n",
      "랍스타      5.0\n",
      "태국음식     5.0\n",
      "        ... \n",
      "돈카츠      3.0\n",
      "야채고로케    3.0\n",
      "대구탕      3.0\n",
      "낙지볶음     2.0\n",
      "포장마차     2.0\n",
      "Name: 5666, Length: 206, dtype: float64\n"
     ]
    }
   ],
   "source": [
    "def recommend_gender_category(user, n_items):\n",
    "    user_category = rating_matrix.loc[user]\n",
    "    for category in rating_matrix:\n",
    "        if pd.isnull(user_category.loc[category]):\n",
    "            user_category.loc[category] = best_seller(user, category)\n",
    "    category_sort = user_category.sort_values(ascending=False)[:n_items]\n",
    "    return category_sort\n",
    "\n",
    "def cf_gender(user, category):\n",
    "    if category in rating_matrix:\n",
    "        gender = users.loc[user]['gender']\n",
    "        if gender in gender_scores.loc[category]:\n",
    "            gender_rating = gender_scores.loc[category, gender]\n",
    "        else:\n",
    "            gender_rating = category_mean[category]\n",
    "    else:\n",
    "        gender_rating = 3.0\n",
    "    return gender_rating\n",
    "\n",
    "print(recommend_gender_category(5666, 30))"
   ]
  }
 ],
 "metadata": {
  "kernelspec": {
   "display_name": "Python 3",
   "language": "python",
   "name": "python3"
  },
  "language_info": {
   "codemirror_mode": {
    "name": "ipython",
    "version": 3
   },
   "file_extension": ".py",
   "mimetype": "text/x-python",
   "name": "python",
   "nbconvert_exporter": "python",
   "pygments_lexer": "ipython3",
   "version": "3.5.3"
  }
 },
 "nbformat": 4,
 "nbformat_minor": 4
}
