{
 "cells": [
  {
   "cell_type": "code",
   "execution_count": 85,
   "metadata": {},
   "outputs": [],
   "source": [
    "import pandas as pd\n",
    "\n",
    "dataframes = pd.read_pickle('data/review.pkl')"
   ]
  },
  {
   "cell_type": "code",
   "execution_count": 86,
   "metadata": {},
   "outputs": [],
   "source": [
    "category_score = pd.merge(\n",
    "    dataframes[\"stores\"], dataframes[\"reviews\"], left_on=\"id\", right_on=\"store\"\n",
    ")[[\"category\", \"user\", \"score\"]]\n",
    "\n",
    "# 기존에 저장된 category 문자열을 | 기준으로 나누어서 리스트로 저장해줍니다.\n",
    "category_score[\"category\"] = category_score[\"category\"].apply(lambda c: c.split(\"|\"))\n",
    "# print(category_score.explode('category'))\n",
    "\n",
    "# DataFrame.explode를 쓰면 리스트를 가진 row들을 분리해줍니다.\n",
    "category_explode = category_score.explode(\"category\").set_index('user')\n",
    "# print 찍어보세요!\n",
    "# print(category_explode)"
   ]
  },
  {
   "cell_type": "code",
   "execution_count": 87,
   "metadata": {},
   "outputs": [],
   "source": [
    "def recom_category(n_items):\n",
    "    return category_mean.sort_values(ascending=False)[:n_items]\n",
    "\n",
    "category_mean = category_explode.groupby(['category'])['score'].mean()\n",
    "# print(category_explode.groupby(['category'])['score'].mean())\n",
    "\n",
    "# # 계층적 색인으로 저장된 걸 풀어주었습니다. (Column을 각각 가져오고 싶습니다.)\n",
    "category_scores = category_explode.groupby([\"user\", \"category\"])['score'].agg([\"mean\", \"size\"]).rename(columns={'mean':'score'}).reset_index()\n",
    "# print(category_scores)\n",
    "category_scores = category_scores[category_scores['size'] > 20]\n",
    "\n",
    "# print(pd.pivot(data=category_scores, index='user', columns='category', values='score'))"
   ]
  },
  {
   "cell_type": "code",
   "execution_count": 12,
   "metadata": {},
   "outputs": [],
   "source": [
    "import numpy as np\n",
    "\n",
    "#RMSE 계산해주는 함수\n",
    "def RMSE(y_true, y_pred):\n",
    "    return np.sqrt(np.mean((np.array(y_true)- np.array(y_pred)) ** 2))\n",
    "\n",
    "# 모델별 RMSE 계산\n",
    "def score(model):\n",
    "    id_pairs = zip(x_test['user'], x_test['category'])\n",
    "    y_pred = np.array([model(user, category) for (user, category) in id_pairs])\n",
    "    y_true = np.array(x_test['score'])\n",
    "    return RMSE(y_true, y_pred)"
   ]
  },
  {
   "cell_type": "code",
   "execution_count": 13,
   "metadata": {},
   "outputs": [
    {
     "name": "stdout",
     "output_type": "stream",
     "text": [
      "1.2220800583865947\n"
     ]
    }
   ],
   "source": [
    "# 전체 데이터를 활용한 예측 - 전체 유저의 리뷰 평점을 예측값으로 두고 실제 값과 오차 계산\n",
    "rmse = []\n",
    "for user in set(category_explode.index):\n",
    "    y_true = category_explode.loc[user]['score']\n",
    "    y_pred = category_mean[category_explode.loc[user]['category']]\n",
    "    accuracy = RMSE(y_true, y_pred)\n",
    "    rmse.append(accuracy)\n",
    "print(np.mean(rmse))"
   ]
  },
  {
   "cell_type": "code",
   "execution_count": 88,
   "metadata": {
    "scrolled": true
   },
   "outputs": [],
   "source": [
    "from sklearn.model_selection import train_test_split\n",
    "\n",
    "x = category_scores.copy()\n",
    "y = category_scores['user']\n",
    "x_train, x_test, y_train, y_test = train_test_split(x, y, test_size=0.25)\n",
    "# 75%는 train set / 25%는 test set\n",
    "\n",
    "# train 데이터로 Full Matrix \n",
    "rating_matrix = x_train.pivot(index='user', columns='category', values='score')"
   ]
  },
  {
   "cell_type": "code",
   "execution_count": 70,
   "metadata": {},
   "outputs": [
    {
     "data": {
      "text/plain": [
       "1.127945982397897"
      ]
     },
     "execution_count": 70,
     "metadata": {},
     "output_type": "execute_result"
    }
   ],
   "source": [
    "# 전체 평균으로 예측치를 계산하는 기본 모델\n",
    "def best_seller(user, category):\n",
    "    try:\n",
    "        score = train_mean[category]\n",
    "    except:\n",
    "        score = 3.0\n",
    "    return score\n",
    "\n",
    "train_mean = x_train.groupby(['category'])['score'].mean()\n",
    "score(best_seller)"
   ]
  },
  {
   "cell_type": "code",
   "execution_count": 89,
   "metadata": {},
   "outputs": [
    {
     "name": "stdout",
     "output_type": "stream",
     "text": [
      "category  gender\n",
      "          여         4.000000\n",
      "냉면        남         4.047619\n",
      "중국집       남         3.480000\n",
      "치킨        남         3.380952\n",
      "카페        남         3.960043\n",
      "          여         3.889776\n",
      "커피        여         3.800000\n",
      "평양냉면      남         4.322581\n",
      "Name: score, dtype: float64\n"
     ]
    }
   ],
   "source": [
    "# Full Matrix를 사용자 데이터와 Merge\n",
    "users = dataframes['users'].rename(columns={'id': 'user'}).set_index('user')\n",
    "merged_ratings = pd.merge(x_train, users, left_on='user', right_index=True)\n",
    "\n",
    "# gender별 평균평점 계산\n",
    "g_mean = merged_ratings[['category', 'gender', 'score']].groupby(['category', 'gender'])['score'].mean()\n",
    "print(g_mean)\n",
    "# age별 평균 평점 계산\n",
    "a_mean = merged_ratings[['category', 'age', 'score']].groupby(['category', 'age'])['score'].mean()"
   ]
  },
  {
   "cell_type": "code",
   "execution_count": 17,
   "metadata": {},
   "outputs": [
    {
     "data": {
      "text/plain": [
       "1.144324779731331"
      ]
     },
     "execution_count": 17,
     "metadata": {},
     "output_type": "execute_result"
    }
   ],
   "source": [
    "########## Gender 기준 추천 ############\n",
    "# gender 별 평균을 예측치로 돌려주는 함수\n",
    "def cf_gender(user, category):\n",
    "    if category in rating_matrix:\n",
    "        gender = users.loc[user]['gender']\n",
    "        if gender in g_mean[category]:\n",
    "            gender_rating = g_mean[category][gender]\n",
    "        else:\n",
    "            gender_rating = train_mean[category]\n",
    "    else:\n",
    "        gender_rating = 3.0\n",
    "    return gender_rating\n",
    "\n",
    "score(cf_gender)"
   ]
  },
  {
   "cell_type": "code",
   "execution_count": 18,
   "metadata": {},
   "outputs": [
    {
     "data": {
      "text/plain": [
       "1.2495723961651406"
      ]
     },
     "execution_count": 18,
     "metadata": {},
     "output_type": "execute_result"
    }
   ],
   "source": [
    "# age 별 평균을 예측치로 돌려주는 함수\n",
    "def cf_age(user, category):\n",
    "    if category in rating_matrix:\n",
    "        age = users.loc[user]['age']\n",
    "        if age in a_mean[category]:\n",
    "            age_rating = a_mean[category][age]\n",
    "        else:\n",
    "            age_rating = train_mean[category]\n",
    "    else:\n",
    "        age_rating = 3.0\n",
    "    return age_rating\n",
    "\n",
    "score(cf_age)"
   ]
  },
  {
   "cell_type": "code",
   "execution_count": 19,
   "metadata": {},
   "outputs": [
    {
     "data": {
      "text/plain": [
       "1.1693291200441522"
      ]
     },
     "execution_count": 19,
     "metadata": {},
     "output_type": "execute_result"
    }
   ],
   "source": [
    "users2 = users.copy()\n",
    "users2['age'] = users2['age'].apply(lambda x: x//10)\n",
    "\n",
    "merged_ratings2 = pd.merge(x_train, users2, left_on='user', right_index=True)\n",
    "\n",
    "a_mean2 = merged_ratings2[['category', 'age', 'score']].groupby(['category', 'age'])['score'].mean()\n",
    "# age 별 평균을 예측치로 돌려주는 함수\n",
    "def cf_age2(user, category):\n",
    "    if category in rating_matrix:\n",
    "        age = users2.loc[user]['age']\n",
    "        if age in a_mean2[category]:\n",
    "            age_rating = a_mean2[category][age]\n",
    "        else:\n",
    "            age_rating = 3.0\n",
    "    else:\n",
    "        age_rating = 3.0\n",
    "    return age_rating\n",
    "\n",
    "score(cf_age2)"
   ]
  },
  {
   "cell_type": "code",
   "execution_count": 20,
   "metadata": {},
   "outputs": [
    {
     "data": {
      "text/plain": [
       "1.188234240613462"
      ]
     },
     "execution_count": 20,
     "metadata": {},
     "output_type": "execute_result"
    }
   ],
   "source": [
    "users2 = users.copy()\n",
    "users2['age'] = users2['age'].apply(lambda x: x//10)\n",
    "\n",
    "merged_ratings3 = pd.merge(x_train, users2, left_on='user', right_index=True)\n",
    "\n",
    "total_mean = merged_ratings3[['category', 'age', 'gender', 'score']].groupby(['category', 'gender', 'age'])['score'].mean()\n",
    "\n",
    "def cf_age3(user, category):\n",
    "    if category in rating_matrix:\n",
    "        age = users2.loc[user]['age']\n",
    "        gender = users2.loc[user]['gender']\n",
    "        if gender in total_mean[category]:\n",
    "            if age in total_mean[category][gender]:\n",
    "                avg_rating = total_mean[category][gender][age]\n",
    "            else:\n",
    "                # age 데이터가 없으면 => gender 평균값 넣어줌\n",
    "                avg_rating = g_mean[category][gender]\n",
    "        else:\n",
    "            # gender 데이터가 없으면\n",
    "            # 만약 age 데이터가 있으면 => age 평균값 넣어줌\n",
    "            if age in total_mean.loc[category, :]:\n",
    "                avg_rating = a_mean2[category][age]\n",
    "            else:\n",
    "                avg_rating = train_mean[category]\n",
    "    else:\n",
    "        avg_rating = 3.0\n",
    "    return avg_rating\n",
    "\n",
    "score(cf_age3)"
   ]
  },
  {
   "cell_type": "code",
   "execution_count": 83,
   "metadata": {},
   "outputs": [
    {
     "name": "stdout",
     "output_type": "stream",
     "text": [
      "          user category     score  size\n",
      "3109      5666       카페  3.840000    25\n",
      "4286      8647       카페  3.851852    27\n",
      "6829     23284      중국집  3.480000    25\n",
      "9287     28600       카페  3.565217    23\n",
      "10520    32143       카페  3.233333    90\n",
      "20443    69019       카페  3.727273    22\n",
      "21184    70650       카페  3.636364    22\n",
      "21745    71632       카페  4.480000    25\n",
      "23479    74999       카페  3.886525   141\n",
      "23482    74999       커피  3.800000    30\n",
      "37242   129333       카페  3.451613    31\n",
      "38762   132504       카페  3.727273    22\n",
      "38951   132643       카페  4.440000    25\n",
      "42607   145101       카페  3.913043    23\n",
      "44711   151946       카페  3.846154    26\n",
      "46791   156952       카페  4.318182    22\n",
      "53078   179719      삼겹살  3.434783    23\n",
      "53199   179719       치킨  3.380952    21\n",
      "53921   180519       카페  3.756757    37\n",
      "56442   191568       카페  3.755102    49\n",
      "63319   217350       카페  3.931034    29\n",
      "63907   218901       카페  3.939394    66\n",
      "64475   220831       카페  3.782609    23\n",
      "67146   237668       카페  4.423077    26\n",
      "67868   243883       카페  3.695652    46\n",
      "68684   247421       카페  4.900000    30\n",
      "72189   256163       카페  3.380952    21\n",
      "73247   259207       카페  3.868421    38\n",
      "75645   280081       카페  4.264706    34\n",
      "77452   284695       카페  4.620690    29\n",
      "78124   286165       카페  4.230769    26\n",
      "97928   386997       카페  3.920000    25\n",
      "98721   389728           4.000000    22\n",
      "98887   389728       카페  3.555556    45\n",
      "99640   391153       카페  4.640000    25\n",
      "100160  391794       카페  3.714286    91\n",
      "107775  469245       카페  4.853659    41\n",
      "109060  485567       냉면  4.047619    21\n",
      "109232  485567     평양냉면  4.322581    62\n",
      "116488  583035       카페  4.000000    61\n",
      "120637  636781       카페  3.781250    32\n",
      "128511  728009       카페  3.480000    25\n",
      "130244  745622       카페  3.734694    49\n",
      "136088  820908       카페  3.916667    24\n",
      "143905  921028       카페  4.090909    22\n"
     ]
    }
   ],
   "source": [
    "def recommend_category(user, n_items):\n",
    "    user_category = rating_matrix.loc[user]\n",
    "    for category in rating_matrix:\n",
    "        if pd.isnull(user_category.loc[category]):\n",
    "            user_category.loc[category] = best_seller(user, category)\n",
    "    category_sort = user_category.sort_values(ascending=False)[:n_items]\n",
    "    return category_sort\n",
    "\n",
    "# 전체 평균으로 예측치를 계산하는 기본 모델\n",
    "def best_seller(user, category):\n",
    "    try:\n",
    "        score = train_mean[category]\n",
    "    except:\n",
    "        score = 3.0\n",
    "    return score\n",
    "\n",
    "print(category_scores)\n",
    "# recommend_category(62, 5)"
   ]
  },
  {
   "cell_type": "code",
   "execution_count": 75,
   "metadata": {},
   "outputs": [
    {
     "data": {
      "text/plain": [
       "category\n",
       "블루베리막걸리    5.0\n",
       "똥집구이       5.0\n",
       "된장술밥       5.0\n",
       "된장찌게       5.0\n",
       "유부         5.0\n",
       "Name: 62, dtype: float64"
      ]
     },
     "execution_count": 75,
     "metadata": {},
     "output_type": "execute_result"
    }
   ],
   "source": [
    "def recommend_category2(user, n_items):\n",
    "    user_category = rating_matrix.loc[user]\n",
    "    for category in rating_matrix:\n",
    "        if pd.isnull(user_category.loc[category]):\n",
    "            user_category.loc[category] = best_seller(user, category)\n",
    "    category_sort = user_category.sort_values(ascending=False)[:n_items]\n",
    "    return category_sort\n",
    "\n",
    "recommend_category2(62, 5)"
   ]
  },
  {
   "cell_type": "code",
   "execution_count": 71,
   "metadata": {},
   "outputs": [
    {
     "name": "stdout",
     "output_type": "stream",
     "text": [
      "         category   user  score\n",
      "0          호주레스토랑  68632      5\n",
      "325                68632      5\n",
      "1412        피자|맥주  68632      5\n",
      "1527      팬케이크|카페  68632      5\n",
      "2300   오리불고기|유황오리  68632      5\n",
      "...           ...    ...    ...\n",
      "87932       카페|홍차  68632      5\n",
      "88311              68632      4\n",
      "88564   닭볶음탕|꼬막무침  68632      5\n",
      "88749  능이버섯백숙|토종닭  68632      5\n",
      "90365     보쌈정식|보쌈  68632      5\n",
      "\n",
      "[121 rows x 3 columns]\n"
     ]
    }
   ],
   "source": [
    "test_df = category_score = pd.merge(\n",
    "    dataframes[\"stores\"], dataframes[\"reviews\"], left_on=\"id\", right_on=\"store\"\n",
    ")[[\"category\", \"user\", \"score\"]]\n",
    "\n",
    "print(test_df[test_df['user']==68632])"
   ]
  }
 ],
 "metadata": {
  "kernelspec": {
   "display_name": "Python 3",
   "language": "python",
   "name": "python3"
  },
  "language_info": {
   "codemirror_mode": {
    "name": "ipython",
    "version": 3
   },
   "file_extension": ".py",
   "mimetype": "text/x-python",
   "name": "python",
   "nbconvert_exporter": "python",
   "pygments_lexer": "ipython3",
   "version": "3.5.3"
  }
 },
 "nbformat": 4,
 "nbformat_minor": 4
}
